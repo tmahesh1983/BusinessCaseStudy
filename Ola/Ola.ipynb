{
 "cells": [
  {
   "cell_type": "markdown",
   "id": "be605ea1",
   "metadata": {},
   "source": [
    "## Problem statement\n",
    "\n",
    "As a data scientist we need to predict the driver team attrition (Churn prediction) for Ola."
   ]
  },
  {
   "cell_type": "code",
   "execution_count": 2,
   "id": "2f009579",
   "metadata": {},
   "outputs": [],
   "source": [
    "import pandas as pd\n",
    "import matplotlib.pyplot as plt\n",
    "import seaborn as sns\n",
    "import numpy as np"
   ]
  },
  {
   "cell_type": "markdown",
   "id": "dff17b53",
   "metadata": {},
   "source": [
    "## Load data &Overview"
   ]
  },
  {
   "cell_type": "code",
   "execution_count": 73,
   "id": "2fb4b90f",
   "metadata": {},
   "outputs": [
    {
     "data": {
      "text/html": [
       "<div>\n",
       "<style scoped>\n",
       "    .dataframe tbody tr th:only-of-type {\n",
       "        vertical-align: middle;\n",
       "    }\n",
       "\n",
       "    .dataframe tbody tr th {\n",
       "        vertical-align: top;\n",
       "    }\n",
       "\n",
       "    .dataframe thead th {\n",
       "        text-align: right;\n",
       "    }\n",
       "</style>\n",
       "<table border=\"1\" class=\"dataframe\">\n",
       "  <thead>\n",
       "    <tr style=\"text-align: right;\">\n",
       "      <th></th>\n",
       "      <th>Unnamed: 0</th>\n",
       "      <th>MMM-YY</th>\n",
       "      <th>Driver_ID</th>\n",
       "      <th>Age</th>\n",
       "      <th>Gender</th>\n",
       "      <th>City</th>\n",
       "      <th>Education_Level</th>\n",
       "      <th>Income</th>\n",
       "      <th>Dateofjoining</th>\n",
       "      <th>LastWorkingDate</th>\n",
       "      <th>Joining Designation</th>\n",
       "      <th>Grade</th>\n",
       "      <th>Total Business Value</th>\n",
       "      <th>Quarterly Rating</th>\n",
       "    </tr>\n",
       "  </thead>\n",
       "  <tbody>\n",
       "    <tr>\n",
       "      <th>0</th>\n",
       "      <td>0</td>\n",
       "      <td>01/01/19</td>\n",
       "      <td>1</td>\n",
       "      <td>28.0</td>\n",
       "      <td>0.0</td>\n",
       "      <td>C23</td>\n",
       "      <td>2</td>\n",
       "      <td>57387</td>\n",
       "      <td>24/12/18</td>\n",
       "      <td>NaN</td>\n",
       "      <td>1</td>\n",
       "      <td>1</td>\n",
       "      <td>2381060</td>\n",
       "      <td>2</td>\n",
       "    </tr>\n",
       "    <tr>\n",
       "      <th>1</th>\n",
       "      <td>1</td>\n",
       "      <td>02/01/19</td>\n",
       "      <td>1</td>\n",
       "      <td>28.0</td>\n",
       "      <td>0.0</td>\n",
       "      <td>C23</td>\n",
       "      <td>2</td>\n",
       "      <td>57387</td>\n",
       "      <td>24/12/18</td>\n",
       "      <td>NaN</td>\n",
       "      <td>1</td>\n",
       "      <td>1</td>\n",
       "      <td>-665480</td>\n",
       "      <td>2</td>\n",
       "    </tr>\n",
       "    <tr>\n",
       "      <th>2</th>\n",
       "      <td>2</td>\n",
       "      <td>03/01/19</td>\n",
       "      <td>1</td>\n",
       "      <td>28.0</td>\n",
       "      <td>0.0</td>\n",
       "      <td>C23</td>\n",
       "      <td>2</td>\n",
       "      <td>57387</td>\n",
       "      <td>24/12/18</td>\n",
       "      <td>03/11/19</td>\n",
       "      <td>1</td>\n",
       "      <td>1</td>\n",
       "      <td>0</td>\n",
       "      <td>2</td>\n",
       "    </tr>\n",
       "    <tr>\n",
       "      <th>3</th>\n",
       "      <td>3</td>\n",
       "      <td>11/01/20</td>\n",
       "      <td>2</td>\n",
       "      <td>31.0</td>\n",
       "      <td>0.0</td>\n",
       "      <td>C7</td>\n",
       "      <td>2</td>\n",
       "      <td>67016</td>\n",
       "      <td>11/06/20</td>\n",
       "      <td>NaN</td>\n",
       "      <td>2</td>\n",
       "      <td>2</td>\n",
       "      <td>0</td>\n",
       "      <td>1</td>\n",
       "    </tr>\n",
       "    <tr>\n",
       "      <th>4</th>\n",
       "      <td>4</td>\n",
       "      <td>12/01/20</td>\n",
       "      <td>2</td>\n",
       "      <td>31.0</td>\n",
       "      <td>0.0</td>\n",
       "      <td>C7</td>\n",
       "      <td>2</td>\n",
       "      <td>67016</td>\n",
       "      <td>11/06/20</td>\n",
       "      <td>NaN</td>\n",
       "      <td>2</td>\n",
       "      <td>2</td>\n",
       "      <td>0</td>\n",
       "      <td>1</td>\n",
       "    </tr>\n",
       "    <tr>\n",
       "      <th>...</th>\n",
       "      <td>...</td>\n",
       "      <td>...</td>\n",
       "      <td>...</td>\n",
       "      <td>...</td>\n",
       "      <td>...</td>\n",
       "      <td>...</td>\n",
       "      <td>...</td>\n",
       "      <td>...</td>\n",
       "      <td>...</td>\n",
       "      <td>...</td>\n",
       "      <td>...</td>\n",
       "      <td>...</td>\n",
       "      <td>...</td>\n",
       "      <td>...</td>\n",
       "    </tr>\n",
       "    <tr>\n",
       "      <th>19099</th>\n",
       "      <td>19099</td>\n",
       "      <td>08/01/20</td>\n",
       "      <td>2788</td>\n",
       "      <td>30.0</td>\n",
       "      <td>0.0</td>\n",
       "      <td>C27</td>\n",
       "      <td>2</td>\n",
       "      <td>70254</td>\n",
       "      <td>06/08/20</td>\n",
       "      <td>NaN</td>\n",
       "      <td>2</td>\n",
       "      <td>2</td>\n",
       "      <td>740280</td>\n",
       "      <td>3</td>\n",
       "    </tr>\n",
       "    <tr>\n",
       "      <th>19100</th>\n",
       "      <td>19100</td>\n",
       "      <td>09/01/20</td>\n",
       "      <td>2788</td>\n",
       "      <td>30.0</td>\n",
       "      <td>0.0</td>\n",
       "      <td>C27</td>\n",
       "      <td>2</td>\n",
       "      <td>70254</td>\n",
       "      <td>06/08/20</td>\n",
       "      <td>NaN</td>\n",
       "      <td>2</td>\n",
       "      <td>2</td>\n",
       "      <td>448370</td>\n",
       "      <td>3</td>\n",
       "    </tr>\n",
       "    <tr>\n",
       "      <th>19101</th>\n",
       "      <td>19101</td>\n",
       "      <td>10/01/20</td>\n",
       "      <td>2788</td>\n",
       "      <td>30.0</td>\n",
       "      <td>0.0</td>\n",
       "      <td>C27</td>\n",
       "      <td>2</td>\n",
       "      <td>70254</td>\n",
       "      <td>06/08/20</td>\n",
       "      <td>NaN</td>\n",
       "      <td>2</td>\n",
       "      <td>2</td>\n",
       "      <td>0</td>\n",
       "      <td>2</td>\n",
       "    </tr>\n",
       "    <tr>\n",
       "      <th>19102</th>\n",
       "      <td>19102</td>\n",
       "      <td>11/01/20</td>\n",
       "      <td>2788</td>\n",
       "      <td>30.0</td>\n",
       "      <td>0.0</td>\n",
       "      <td>C27</td>\n",
       "      <td>2</td>\n",
       "      <td>70254</td>\n",
       "      <td>06/08/20</td>\n",
       "      <td>NaN</td>\n",
       "      <td>2</td>\n",
       "      <td>2</td>\n",
       "      <td>200420</td>\n",
       "      <td>2</td>\n",
       "    </tr>\n",
       "    <tr>\n",
       "      <th>19103</th>\n",
       "      <td>19103</td>\n",
       "      <td>12/01/20</td>\n",
       "      <td>2788</td>\n",
       "      <td>30.0</td>\n",
       "      <td>0.0</td>\n",
       "      <td>C27</td>\n",
       "      <td>2</td>\n",
       "      <td>70254</td>\n",
       "      <td>06/08/20</td>\n",
       "      <td>NaN</td>\n",
       "      <td>2</td>\n",
       "      <td>2</td>\n",
       "      <td>411480</td>\n",
       "      <td>2</td>\n",
       "    </tr>\n",
       "  </tbody>\n",
       "</table>\n",
       "<p>19104 rows × 14 columns</p>\n",
       "</div>"
      ],
      "text/plain": [
       "       Unnamed: 0    MMM-YY  Driver_ID   Age  Gender City  Education_Level  \\\n",
       "0               0  01/01/19          1  28.0     0.0  C23                2   \n",
       "1               1  02/01/19          1  28.0     0.0  C23                2   \n",
       "2               2  03/01/19          1  28.0     0.0  C23                2   \n",
       "3               3  11/01/20          2  31.0     0.0   C7                2   \n",
       "4               4  12/01/20          2  31.0     0.0   C7                2   \n",
       "...           ...       ...        ...   ...     ...  ...              ...   \n",
       "19099       19099  08/01/20       2788  30.0     0.0  C27                2   \n",
       "19100       19100  09/01/20       2788  30.0     0.0  C27                2   \n",
       "19101       19101  10/01/20       2788  30.0     0.0  C27                2   \n",
       "19102       19102  11/01/20       2788  30.0     0.0  C27                2   \n",
       "19103       19103  12/01/20       2788  30.0     0.0  C27                2   \n",
       "\n",
       "       Income Dateofjoining LastWorkingDate  Joining Designation  Grade  \\\n",
       "0       57387      24/12/18             NaN                    1      1   \n",
       "1       57387      24/12/18             NaN                    1      1   \n",
       "2       57387      24/12/18        03/11/19                    1      1   \n",
       "3       67016      11/06/20             NaN                    2      2   \n",
       "4       67016      11/06/20             NaN                    2      2   \n",
       "...       ...           ...             ...                  ...    ...   \n",
       "19099   70254      06/08/20             NaN                    2      2   \n",
       "19100   70254      06/08/20             NaN                    2      2   \n",
       "19101   70254      06/08/20             NaN                    2      2   \n",
       "19102   70254      06/08/20             NaN                    2      2   \n",
       "19103   70254      06/08/20             NaN                    2      2   \n",
       "\n",
       "       Total Business Value  Quarterly Rating  \n",
       "0                   2381060                 2  \n",
       "1                   -665480                 2  \n",
       "2                         0                 2  \n",
       "3                         0                 1  \n",
       "4                         0                 1  \n",
       "...                     ...               ...  \n",
       "19099                740280                 3  \n",
       "19100                448370                 3  \n",
       "19101                     0                 2  \n",
       "19102                200420                 2  \n",
       "19103                411480                 2  \n",
       "\n",
       "[19104 rows x 14 columns]"
      ]
     },
     "execution_count": 73,
     "metadata": {},
     "output_type": "execute_result"
    }
   ],
   "source": [
    "ola_df = pd.read_csv('https://d2beiqkhq929f0.cloudfront.net/public_assets/assets/000/002/492/original/ola_driver_scaler.csv')\n",
    "ola_df"
   ]
  },
  {
   "cell_type": "markdown",
   "id": "80d5de73",
   "metadata": {},
   "source": [
    "## Overview of data"
   ]
  },
  {
   "cell_type": "code",
   "execution_count": 74,
   "id": "1930fd38",
   "metadata": {},
   "outputs": [
    {
     "data": {
      "text/plain": [
       "(19104, 14)"
      ]
     },
     "execution_count": 74,
     "metadata": {},
     "output_type": "execute_result"
    }
   ],
   "source": [
    "ola_df.shape"
   ]
  },
  {
   "cell_type": "code",
   "execution_count": 75,
   "id": "33d57279",
   "metadata": {},
   "outputs": [
    {
     "data": {
      "text/plain": [
       "Index(['Unnamed: 0', 'MMM-YY', 'Driver_ID', 'Age', 'Gender', 'City',\n",
       "       'Education_Level', 'Income', 'Dateofjoining', 'LastWorkingDate',\n",
       "       'Joining Designation', 'Grade', 'Total Business Value',\n",
       "       'Quarterly Rating'],\n",
       "      dtype='object')"
      ]
     },
     "execution_count": 75,
     "metadata": {},
     "output_type": "execute_result"
    }
   ],
   "source": [
    "ola_df.columns"
   ]
  },
  {
   "cell_type": "markdown",
   "id": "3ff13ab0",
   "metadata": {},
   "source": [
    "## Basic data engineering - Converting 0/1 based on Last working Date"
   ]
  },
  {
   "cell_type": "code",
   "execution_count": 76,
   "id": "9e5a5efc",
   "metadata": {},
   "outputs": [
    {
     "data": {
      "text/html": [
       "<div>\n",
       "<style scoped>\n",
       "    .dataframe tbody tr th:only-of-type {\n",
       "        vertical-align: middle;\n",
       "    }\n",
       "\n",
       "    .dataframe tbody tr th {\n",
       "        vertical-align: top;\n",
       "    }\n",
       "\n",
       "    .dataframe thead th {\n",
       "        text-align: right;\n",
       "    }\n",
       "</style>\n",
       "<table border=\"1\" class=\"dataframe\">\n",
       "  <thead>\n",
       "    <tr style=\"text-align: right;\">\n",
       "      <th></th>\n",
       "      <th>Unnamed: 0</th>\n",
       "      <th>MMM-YY</th>\n",
       "      <th>Driver_ID</th>\n",
       "      <th>Age</th>\n",
       "      <th>Gender</th>\n",
       "      <th>City</th>\n",
       "      <th>Education_Level</th>\n",
       "      <th>Income</th>\n",
       "      <th>Dateofjoining</th>\n",
       "      <th>LastWorkingDate</th>\n",
       "      <th>Joining Designation</th>\n",
       "      <th>Grade</th>\n",
       "      <th>Total Business Value</th>\n",
       "      <th>Quarterly Rating</th>\n",
       "    </tr>\n",
       "  </thead>\n",
       "  <tbody>\n",
       "    <tr>\n",
       "      <th>0</th>\n",
       "      <td>0</td>\n",
       "      <td>01/01/19</td>\n",
       "      <td>1</td>\n",
       "      <td>28.0</td>\n",
       "      <td>0.0</td>\n",
       "      <td>C23</td>\n",
       "      <td>2</td>\n",
       "      <td>57387</td>\n",
       "      <td>24/12/18</td>\n",
       "      <td>0</td>\n",
       "      <td>1</td>\n",
       "      <td>1</td>\n",
       "      <td>2381060</td>\n",
       "      <td>2</td>\n",
       "    </tr>\n",
       "    <tr>\n",
       "      <th>1</th>\n",
       "      <td>1</td>\n",
       "      <td>02/01/19</td>\n",
       "      <td>1</td>\n",
       "      <td>28.0</td>\n",
       "      <td>0.0</td>\n",
       "      <td>C23</td>\n",
       "      <td>2</td>\n",
       "      <td>57387</td>\n",
       "      <td>24/12/18</td>\n",
       "      <td>0</td>\n",
       "      <td>1</td>\n",
       "      <td>1</td>\n",
       "      <td>-665480</td>\n",
       "      <td>2</td>\n",
       "    </tr>\n",
       "    <tr>\n",
       "      <th>2</th>\n",
       "      <td>2</td>\n",
       "      <td>03/01/19</td>\n",
       "      <td>1</td>\n",
       "      <td>28.0</td>\n",
       "      <td>0.0</td>\n",
       "      <td>C23</td>\n",
       "      <td>2</td>\n",
       "      <td>57387</td>\n",
       "      <td>24/12/18</td>\n",
       "      <td>1</td>\n",
       "      <td>1</td>\n",
       "      <td>1</td>\n",
       "      <td>0</td>\n",
       "      <td>2</td>\n",
       "    </tr>\n",
       "    <tr>\n",
       "      <th>3</th>\n",
       "      <td>3</td>\n",
       "      <td>11/01/20</td>\n",
       "      <td>2</td>\n",
       "      <td>31.0</td>\n",
       "      <td>0.0</td>\n",
       "      <td>C7</td>\n",
       "      <td>2</td>\n",
       "      <td>67016</td>\n",
       "      <td>11/06/20</td>\n",
       "      <td>0</td>\n",
       "      <td>2</td>\n",
       "      <td>2</td>\n",
       "      <td>0</td>\n",
       "      <td>1</td>\n",
       "    </tr>\n",
       "    <tr>\n",
       "      <th>4</th>\n",
       "      <td>4</td>\n",
       "      <td>12/01/20</td>\n",
       "      <td>2</td>\n",
       "      <td>31.0</td>\n",
       "      <td>0.0</td>\n",
       "      <td>C7</td>\n",
       "      <td>2</td>\n",
       "      <td>67016</td>\n",
       "      <td>11/06/20</td>\n",
       "      <td>0</td>\n",
       "      <td>2</td>\n",
       "      <td>2</td>\n",
       "      <td>0</td>\n",
       "      <td>1</td>\n",
       "    </tr>\n",
       "    <tr>\n",
       "      <th>...</th>\n",
       "      <td>...</td>\n",
       "      <td>...</td>\n",
       "      <td>...</td>\n",
       "      <td>...</td>\n",
       "      <td>...</td>\n",
       "      <td>...</td>\n",
       "      <td>...</td>\n",
       "      <td>...</td>\n",
       "      <td>...</td>\n",
       "      <td>...</td>\n",
       "      <td>...</td>\n",
       "      <td>...</td>\n",
       "      <td>...</td>\n",
       "      <td>...</td>\n",
       "    </tr>\n",
       "    <tr>\n",
       "      <th>19099</th>\n",
       "      <td>19099</td>\n",
       "      <td>08/01/20</td>\n",
       "      <td>2788</td>\n",
       "      <td>30.0</td>\n",
       "      <td>0.0</td>\n",
       "      <td>C27</td>\n",
       "      <td>2</td>\n",
       "      <td>70254</td>\n",
       "      <td>06/08/20</td>\n",
       "      <td>0</td>\n",
       "      <td>2</td>\n",
       "      <td>2</td>\n",
       "      <td>740280</td>\n",
       "      <td>3</td>\n",
       "    </tr>\n",
       "    <tr>\n",
       "      <th>19100</th>\n",
       "      <td>19100</td>\n",
       "      <td>09/01/20</td>\n",
       "      <td>2788</td>\n",
       "      <td>30.0</td>\n",
       "      <td>0.0</td>\n",
       "      <td>C27</td>\n",
       "      <td>2</td>\n",
       "      <td>70254</td>\n",
       "      <td>06/08/20</td>\n",
       "      <td>0</td>\n",
       "      <td>2</td>\n",
       "      <td>2</td>\n",
       "      <td>448370</td>\n",
       "      <td>3</td>\n",
       "    </tr>\n",
       "    <tr>\n",
       "      <th>19101</th>\n",
       "      <td>19101</td>\n",
       "      <td>10/01/20</td>\n",
       "      <td>2788</td>\n",
       "      <td>30.0</td>\n",
       "      <td>0.0</td>\n",
       "      <td>C27</td>\n",
       "      <td>2</td>\n",
       "      <td>70254</td>\n",
       "      <td>06/08/20</td>\n",
       "      <td>0</td>\n",
       "      <td>2</td>\n",
       "      <td>2</td>\n",
       "      <td>0</td>\n",
       "      <td>2</td>\n",
       "    </tr>\n",
       "    <tr>\n",
       "      <th>19102</th>\n",
       "      <td>19102</td>\n",
       "      <td>11/01/20</td>\n",
       "      <td>2788</td>\n",
       "      <td>30.0</td>\n",
       "      <td>0.0</td>\n",
       "      <td>C27</td>\n",
       "      <td>2</td>\n",
       "      <td>70254</td>\n",
       "      <td>06/08/20</td>\n",
       "      <td>0</td>\n",
       "      <td>2</td>\n",
       "      <td>2</td>\n",
       "      <td>200420</td>\n",
       "      <td>2</td>\n",
       "    </tr>\n",
       "    <tr>\n",
       "      <th>19103</th>\n",
       "      <td>19103</td>\n",
       "      <td>12/01/20</td>\n",
       "      <td>2788</td>\n",
       "      <td>30.0</td>\n",
       "      <td>0.0</td>\n",
       "      <td>C27</td>\n",
       "      <td>2</td>\n",
       "      <td>70254</td>\n",
       "      <td>06/08/20</td>\n",
       "      <td>0</td>\n",
       "      <td>2</td>\n",
       "      <td>2</td>\n",
       "      <td>411480</td>\n",
       "      <td>2</td>\n",
       "    </tr>\n",
       "  </tbody>\n",
       "</table>\n",
       "<p>19104 rows × 14 columns</p>\n",
       "</div>"
      ],
      "text/plain": [
       "       Unnamed: 0    MMM-YY  Driver_ID   Age  Gender City  Education_Level  \\\n",
       "0               0  01/01/19          1  28.0     0.0  C23                2   \n",
       "1               1  02/01/19          1  28.0     0.0  C23                2   \n",
       "2               2  03/01/19          1  28.0     0.0  C23                2   \n",
       "3               3  11/01/20          2  31.0     0.0   C7                2   \n",
       "4               4  12/01/20          2  31.0     0.0   C7                2   \n",
       "...           ...       ...        ...   ...     ...  ...              ...   \n",
       "19099       19099  08/01/20       2788  30.0     0.0  C27                2   \n",
       "19100       19100  09/01/20       2788  30.0     0.0  C27                2   \n",
       "19101       19101  10/01/20       2788  30.0     0.0  C27                2   \n",
       "19102       19102  11/01/20       2788  30.0     0.0  C27                2   \n",
       "19103       19103  12/01/20       2788  30.0     0.0  C27                2   \n",
       "\n",
       "       Income Dateofjoining  LastWorkingDate  Joining Designation  Grade  \\\n",
       "0       57387      24/12/18                0                    1      1   \n",
       "1       57387      24/12/18                0                    1      1   \n",
       "2       57387      24/12/18                1                    1      1   \n",
       "3       67016      11/06/20                0                    2      2   \n",
       "4       67016      11/06/20                0                    2      2   \n",
       "...       ...           ...              ...                  ...    ...   \n",
       "19099   70254      06/08/20                0                    2      2   \n",
       "19100   70254      06/08/20                0                    2      2   \n",
       "19101   70254      06/08/20                0                    2      2   \n",
       "19102   70254      06/08/20                0                    2      2   \n",
       "19103   70254      06/08/20                0                    2      2   \n",
       "\n",
       "       Total Business Value  Quarterly Rating  \n",
       "0                   2381060                 2  \n",
       "1                   -665480                 2  \n",
       "2                         0                 2  \n",
       "3                         0                 1  \n",
       "4                         0                 1  \n",
       "...                     ...               ...  \n",
       "19099                740280                 3  \n",
       "19100                448370                 3  \n",
       "19101                     0                 2  \n",
       "19102                200420                 2  \n",
       "19103                411480                 2  \n",
       "\n",
       "[19104 rows x 14 columns]"
      ]
     },
     "execution_count": 76,
     "metadata": {},
     "output_type": "execute_result"
    }
   ],
   "source": [
    "# 0 - Still Working\n",
    "# 1 - Left from organization\n",
    "ola_df[\"LastWorkingDate\"] = ola_df[\"LastWorkingDate\"].notnull().astype(\"int\")\n",
    "ola_df"
   ]
  },
  {
   "cell_type": "markdown",
   "id": "119bdf31",
   "metadata": {},
   "source": [
    "### Target data splitage"
   ]
  },
  {
   "cell_type": "code",
   "execution_count": 77,
   "id": "ea3f7cdc",
   "metadata": {},
   "outputs": [
    {
     "data": {
      "text/plain": [
       "Text(0.5, 1.02, 'Count of TARGET Variable per category')"
      ]
     },
     "execution_count": 77,
     "metadata": {},
     "output_type": "execute_result"
    },
    {
     "data": {
      "image/png": "[encoded data removed]",
      "text/plain": [
       "<Figure size 576x432 with 1 Axes>"
      ]
     },
     "metadata": {
      "needs_background": "light"
     },
     "output_type": "display_data"
    }
   ],
   "source": [
    "ola_df['LastWorkingDate'].value_counts().plot(kind='barh', figsize=(8, 6))\n",
    "plt.xlabel(\"Count\", labelpad=14)\n",
    "plt.ylabel(\"Target Variable\", labelpad=14)\n",
    "plt.title(\"Count of TARGET Variable per category\", y=1.02)"
   ]
  },
  {
   "cell_type": "code",
   "execution_count": 78,
   "id": "2a6ff464",
   "metadata": {},
   "outputs": [
    {
     "data": {
      "text/plain": [
       "0    17488\n",
       "1     1616\n",
       "Name: LastWorkingDate, dtype: int64"
      ]
     },
     "execution_count": 78,
     "metadata": {},
     "output_type": "execute_result"
    }
   ],
   "source": [
    "ola_df['LastWorkingDate'].value_counts()"
   ]
  },
  {
   "cell_type": "markdown",
   "id": "76e4e4d2",
   "metadata": {},
   "source": [
    "Based on target variable it is completely imbalanced data"
   ]
  },
  {
   "cell_type": "markdown",
   "id": "067bce6c",
   "metadata": {},
   "source": [
    "### data types of all the attributes"
   ]
  },
  {
   "cell_type": "code",
   "execution_count": 79,
   "id": "ad0e98bb",
   "metadata": {},
   "outputs": [
    {
     "name": "stdout",
     "output_type": "stream",
     "text": [
      "<class 'pandas.core.frame.DataFrame'>\n",
      "RangeIndex: 19104 entries, 0 to 19103\n",
      "Data columns (total 14 columns):\n",
      " #   Column                Non-Null Count  Dtype  \n",
      "---  ------                --------------  -----  \n",
      " 0   Unnamed: 0            19104 non-null  int64  \n",
      " 1   MMM-YY                19104 non-null  object \n",
      " 2   Driver_ID             19104 non-null  int64  \n",
      " 3   Age                   19043 non-null  float64\n",
      " 4   Gender                19052 non-null  float64\n",
      " 5   City                  19104 non-null  object \n",
      " 6   Education_Level       19104 non-null  int64  \n",
      " 7   Income                19104 non-null  int64  \n",
      " 8   Dateofjoining         19104 non-null  object \n",
      " 9   LastWorkingDate       19104 non-null  int32  \n",
      " 10  Joining Designation   19104 non-null  int64  \n",
      " 11  Grade                 19104 non-null  int64  \n",
      " 12  Total Business Value  19104 non-null  int64  \n",
      " 13  Quarterly Rating      19104 non-null  int64  \n",
      "dtypes: float64(2), int32(1), int64(8), object(3)\n",
      "memory usage: 2.0+ MB\n"
     ]
    }
   ],
   "source": [
    "ola_df.info();"
   ]
  },
  {
   "cell_type": "markdown",
   "id": "206f00a5",
   "metadata": {},
   "source": [
    "### Unique Values"
   ]
  },
  {
   "cell_type": "code",
   "execution_count": 80,
   "id": "bbd8eabb",
   "metadata": {},
   "outputs": [
    {
     "data": {
      "text/plain": [
       "Unnamed: 0              19104\n",
       "MMM-YY                     24\n",
       "Driver_ID                2381\n",
       "Age                        36\n",
       "Gender                      2\n",
       "City                       29\n",
       "Education_Level             3\n",
       "Income                   2383\n",
       "Dateofjoining             869\n",
       "LastWorkingDate             2\n",
       "Joining Designation         5\n",
       "Grade                       5\n",
       "Total Business Value    10181\n",
       "Quarterly Rating            4\n",
       "dtype: int64"
      ]
     },
     "execution_count": 80,
     "metadata": {},
     "output_type": "execute_result"
    }
   ],
   "source": [
    "ola_df.nunique()"
   ]
  },
  {
   "cell_type": "markdown",
   "id": "f1447bb5",
   "metadata": {},
   "source": [
    "### Missing value & Dulcate check"
   ]
  },
  {
   "cell_type": "code",
   "execution_count": 81,
   "id": "5d6cf84e",
   "metadata": {},
   "outputs": [
    {
     "data": {
      "text/plain": [
       "Unnamed: 0               0\n",
       "MMM-YY                   0\n",
       "Driver_ID                0\n",
       "Age                     61\n",
       "Gender                  52\n",
       "City                     0\n",
       "Education_Level          0\n",
       "Income                   0\n",
       "Dateofjoining            0\n",
       "LastWorkingDate          0\n",
       "Joining Designation      0\n",
       "Grade                    0\n",
       "Total Business Value     0\n",
       "Quarterly Rating         0\n",
       "dtype: int64"
      ]
     },
     "execution_count": 81,
     "metadata": {},
     "output_type": "execute_result"
    }
   ],
   "source": [
    "ola_df.isna().sum()"
   ]
  },
  {
   "cell_type": "code",
   "execution_count": 82,
   "id": "a4ede7aa",
   "metadata": {},
   "outputs": [
    {
     "data": {
      "text/plain": [
       "0"
      ]
     },
     "execution_count": 82,
     "metadata": {},
     "output_type": "execute_result"
    }
   ],
   "source": [
    "ola_df.duplicated().sum()"
   ]
  },
  {
   "cell_type": "markdown",
   "id": "c3f856ce",
   "metadata": {},
   "source": [
    "### statical sumary"
   ]
  },
  {
   "cell_type": "code",
   "execution_count": 83,
   "id": "3cd1aa8f",
   "metadata": {},
   "outputs": [
    {
     "data": {
      "text/html": [
       "<div>\n",
       "<style scoped>\n",
       "    .dataframe tbody tr th:only-of-type {\n",
       "        vertical-align: middle;\n",
       "    }\n",
       "\n",
       "    .dataframe tbody tr th {\n",
       "        vertical-align: top;\n",
       "    }\n",
       "\n",
       "    .dataframe thead th {\n",
       "        text-align: right;\n",
       "    }\n",
       "</style>\n",
       "<table border=\"1\" class=\"dataframe\">\n",
       "  <thead>\n",
       "    <tr style=\"text-align: right;\">\n",
       "      <th></th>\n",
       "      <th>Unnamed: 0</th>\n",
       "      <th>Driver_ID</th>\n",
       "      <th>Age</th>\n",
       "      <th>Gender</th>\n",
       "      <th>Education_Level</th>\n",
       "      <th>Income</th>\n",
       "      <th>LastWorkingDate</th>\n",
       "      <th>Joining Designation</th>\n",
       "      <th>Grade</th>\n",
       "      <th>Total Business Value</th>\n",
       "      <th>Quarterly Rating</th>\n",
       "    </tr>\n",
       "  </thead>\n",
       "  <tbody>\n",
       "    <tr>\n",
       "      <th>count</th>\n",
       "      <td>19104.000000</td>\n",
       "      <td>19104.000000</td>\n",
       "      <td>19043.000000</td>\n",
       "      <td>19052.000000</td>\n",
       "      <td>19104.000000</td>\n",
       "      <td>19104.000000</td>\n",
       "      <td>19104.000000</td>\n",
       "      <td>19104.000000</td>\n",
       "      <td>19104.000000</td>\n",
       "      <td>1.910400e+04</td>\n",
       "      <td>19104.000000</td>\n",
       "    </tr>\n",
       "    <tr>\n",
       "      <th>mean</th>\n",
       "      <td>9551.500000</td>\n",
       "      <td>1415.591133</td>\n",
       "      <td>34.668435</td>\n",
       "      <td>0.418749</td>\n",
       "      <td>1.021671</td>\n",
       "      <td>65652.025126</td>\n",
       "      <td>0.084590</td>\n",
       "      <td>1.690536</td>\n",
       "      <td>2.252670</td>\n",
       "      <td>5.716621e+05</td>\n",
       "      <td>2.008899</td>\n",
       "    </tr>\n",
       "    <tr>\n",
       "      <th>std</th>\n",
       "      <td>5514.994107</td>\n",
       "      <td>810.705321</td>\n",
       "      <td>6.257912</td>\n",
       "      <td>0.493367</td>\n",
       "      <td>0.800167</td>\n",
       "      <td>30914.515344</td>\n",
       "      <td>0.278277</td>\n",
       "      <td>0.836984</td>\n",
       "      <td>1.026512</td>\n",
       "      <td>1.128312e+06</td>\n",
       "      <td>1.009832</td>\n",
       "    </tr>\n",
       "    <tr>\n",
       "      <th>min</th>\n",
       "      <td>0.000000</td>\n",
       "      <td>1.000000</td>\n",
       "      <td>21.000000</td>\n",
       "      <td>0.000000</td>\n",
       "      <td>0.000000</td>\n",
       "      <td>10747.000000</td>\n",
       "      <td>0.000000</td>\n",
       "      <td>1.000000</td>\n",
       "      <td>1.000000</td>\n",
       "      <td>-6.000000e+06</td>\n",
       "      <td>1.000000</td>\n",
       "    </tr>\n",
       "    <tr>\n",
       "      <th>25%</th>\n",
       "      <td>4775.750000</td>\n",
       "      <td>710.000000</td>\n",
       "      <td>30.000000</td>\n",
       "      <td>0.000000</td>\n",
       "      <td>0.000000</td>\n",
       "      <td>42383.000000</td>\n",
       "      <td>0.000000</td>\n",
       "      <td>1.000000</td>\n",
       "      <td>1.000000</td>\n",
       "      <td>0.000000e+00</td>\n",
       "      <td>1.000000</td>\n",
       "    </tr>\n",
       "    <tr>\n",
       "      <th>50%</th>\n",
       "      <td>9551.500000</td>\n",
       "      <td>1417.000000</td>\n",
       "      <td>34.000000</td>\n",
       "      <td>0.000000</td>\n",
       "      <td>1.000000</td>\n",
       "      <td>60087.000000</td>\n",
       "      <td>0.000000</td>\n",
       "      <td>1.000000</td>\n",
       "      <td>2.000000</td>\n",
       "      <td>2.500000e+05</td>\n",
       "      <td>2.000000</td>\n",
       "    </tr>\n",
       "    <tr>\n",
       "      <th>75%</th>\n",
       "      <td>14327.250000</td>\n",
       "      <td>2137.000000</td>\n",
       "      <td>39.000000</td>\n",
       "      <td>1.000000</td>\n",
       "      <td>2.000000</td>\n",
       "      <td>83969.000000</td>\n",
       "      <td>0.000000</td>\n",
       "      <td>2.000000</td>\n",
       "      <td>3.000000</td>\n",
       "      <td>6.997000e+05</td>\n",
       "      <td>3.000000</td>\n",
       "    </tr>\n",
       "    <tr>\n",
       "      <th>max</th>\n",
       "      <td>19103.000000</td>\n",
       "      <td>2788.000000</td>\n",
       "      <td>58.000000</td>\n",
       "      <td>1.000000</td>\n",
       "      <td>2.000000</td>\n",
       "      <td>188418.000000</td>\n",
       "      <td>1.000000</td>\n",
       "      <td>5.000000</td>\n",
       "      <td>5.000000</td>\n",
       "      <td>3.374772e+07</td>\n",
       "      <td>4.000000</td>\n",
       "    </tr>\n",
       "  </tbody>\n",
       "</table>\n",
       "</div>"
      ],
      "text/plain": [
       "         Unnamed: 0     Driver_ID           Age        Gender  \\\n",
       "count  19104.000000  19104.000000  19043.000000  19052.000000   \n",
       "mean    9551.500000   1415.591133     34.668435      0.418749   \n",
       "std     5514.994107    810.705321      6.257912      0.493367   \n",
       "min        0.000000      1.000000     21.000000      0.000000   \n",
       "25%     4775.750000    710.000000     30.000000      0.000000   \n",
       "50%     9551.500000   1417.000000     34.000000      0.000000   \n",
       "75%    14327.250000   2137.000000     39.000000      1.000000   \n",
       "max    19103.000000   2788.000000     58.000000      1.000000   \n",
       "\n",
       "       Education_Level         Income  LastWorkingDate  Joining Designation  \\\n",
       "count     19104.000000   19104.000000     19104.000000         19104.000000   \n",
       "mean          1.021671   65652.025126         0.084590             1.690536   \n",
       "std           0.800167   30914.515344         0.278277             0.836984   \n",
       "min           0.000000   10747.000000         0.000000             1.000000   \n",
       "25%           0.000000   42383.000000         0.000000             1.000000   \n",
       "50%           1.000000   60087.000000         0.000000             1.000000   \n",
       "75%           2.000000   83969.000000         0.000000             2.000000   \n",
       "max           2.000000  188418.000000         1.000000             5.000000   \n",
       "\n",
       "              Grade  Total Business Value  Quarterly Rating  \n",
       "count  19104.000000          1.910400e+04      19104.000000  \n",
       "mean       2.252670          5.716621e+05          2.008899  \n",
       "std        1.026512          1.128312e+06          1.009832  \n",
       "min        1.000000         -6.000000e+06          1.000000  \n",
       "25%        1.000000          0.000000e+00          1.000000  \n",
       "50%        2.000000          2.500000e+05          2.000000  \n",
       "75%        3.000000          6.997000e+05          3.000000  \n",
       "max        5.000000          3.374772e+07          4.000000  "
      ]
     },
     "metadata": {},
     "output_type": "display_data"
    }
   ],
   "source": [
    "display(ola_df.describe())"
   ]
  },
  {
   "cell_type": "markdown",
   "id": "7a00d7be",
   "metadata": {},
   "source": [
    "## Univaiate Anayysis"
   ]
  },
  {
   "cell_type": "markdown",
   "id": "d1528778",
   "metadata": {},
   "source": [
    "### countplots of the categorical variables"
   ]
  },
  {
   "cell_type": "code",
   "execution_count": 84,
   "id": "0979c4f9",
   "metadata": {},
   "outputs": [
    {
     "data": {
      "text/plain": [
       "<AxesSubplot:xlabel='Gender', ylabel='count'>"
      ]
     },
     "execution_count": 84,
     "metadata": {},
     "output_type": "execute_result"
    },
    {
     "data": {
      "image/png": "[encoded data removed]",
      "text/plain": [
       "<Figure size 432x288 with 1 Axes>"
      ]
     },
     "metadata": {
      "needs_background": "light"
     },
     "output_type": "display_data"
    }
   ],
   "source": [
    "import seaborn as sns\n",
    "sns.countplot(x=ola_df[\"Gender\"], hue='LastWorkingDate', data=ola_df)"
   ]
  },
  {
   "cell_type": "code",
   "execution_count": 85,
   "id": "8ae310ef",
   "metadata": {},
   "outputs": [
    {
     "data": {
      "text/plain": [
       "<AxesSubplot:xlabel='Education_Level', ylabel='count'>"
      ]
     },
     "execution_count": 85,
     "metadata": {},
     "output_type": "execute_result"
    },
    {
     "data": {
      "image/png": "[encoded data removed]",
      "text/plain": [
       "<Figure size 432x288 with 1 Axes>"
      ]
     },
     "metadata": {
      "needs_background": "light"
     },
     "output_type": "display_data"
    }
   ],
   "source": [
    "sns.countplot(x=ola_df[\"Education_Level\"], hue='LastWorkingDate', data=ola_df)"
   ]
  },
  {
   "cell_type": "code",
   "execution_count": 86,
   "id": "036ae9b6",
   "metadata": {},
   "outputs": [
    {
     "data": {
      "text/plain": [
       "<AxesSubplot:xlabel='Grade', ylabel='count'>"
      ]
     },
     "execution_count": 86,
     "metadata": {},
     "output_type": "execute_result"
    },
    {
     "data": {
      "image/png": "[encoded data removed]",
      "text/plain": [
       "<Figure size 432x288 with 1 Axes>"
      ]
     },
     "metadata": {
      "needs_background": "light"
     },
     "output_type": "display_data"
    }
   ],
   "source": [
    "sns.countplot(x=ola_df[\"Grade\"], hue='LastWorkingDate', data=ola_df)"
   ]
  },
  {
   "cell_type": "code",
   "execution_count": 87,
   "id": "bf93a534",
   "metadata": {},
   "outputs": [
    {
     "data": {
      "text/plain": [
       "<AxesSubplot:xlabel='Joining Designation', ylabel='count'>"
      ]
     },
     "execution_count": 87,
     "metadata": {},
     "output_type": "execute_result"
    },
    {
     "data": {
      "image/png": "[encoded data removed]",
      "text/plain": [
       "<Figure size 432x288 with 1 Axes>"
      ]
     },
     "metadata": {
      "needs_background": "light"
     },
     "output_type": "display_data"
    }
   ],
   "source": [
    "sns.countplot(x=ola_df[\"Joining Designation\"], hue='LastWorkingDate', data=ola_df)"
   ]
  },
  {
   "cell_type": "code",
   "execution_count": 88,
   "id": "a741fe43",
   "metadata": {},
   "outputs": [
    {
     "data": {
      "text/plain": [
       "<AxesSubplot:xlabel='Gender', ylabel='count'>"
      ]
     },
     "execution_count": 88,
     "metadata": {},
     "output_type": "execute_result"
    },
    {
     "data": {
      "image/png": "[encoded data removed]",
      "text/plain": [
       "<Figure size 432x288 with 1 Axes>"
      ]
     },
     "metadata": {
      "needs_background": "light"
     },
     "output_type": "display_data"
    }
   ],
   "source": [
    "sns.countplot(x=ola_df[\"Gender\"], hue='LastWorkingDate', data=ola_df)"
   ]
  },
  {
   "cell_type": "markdown",
   "id": "76cf67ab",
   "metadata": {},
   "source": [
    "## Bivariate Analysis"
   ]
  },
  {
   "cell_type": "markdown",
   "id": "9e3d80bb",
   "metadata": {},
   "source": [
    "### Correlatio Marix"
   ]
  },
  {
   "cell_type": "code",
   "execution_count": 89,
   "id": "838d8bde",
   "metadata": {},
   "outputs": [
    {
     "data": {
      "image/png": "[encoded data removed]",
      "text/plain": [
       "<Figure size 720x576 with 2 Axes>"
      ]
     },
     "metadata": {
      "needs_background": "light"
     },
     "output_type": "display_data"
    }
   ],
   "source": [
    "plt.figure(figsize=(10,8))\n",
    "ax = sns.heatmap(ola_df.corr(), cmap=\"YlGnBu\", annot=True)"
   ]
  },
  {
   "cell_type": "markdown",
   "id": "3ecd67e4",
   "metadata": {},
   "source": [
    "## How much target variable (LastWorkingDate) depends on different predictor variables"
   ]
  },
  {
   "cell_type": "code",
   "execution_count": 90,
   "id": "7afbe176",
   "metadata": {},
   "outputs": [
    {
     "data": {
      "image/png": "[encoded data removed]",
      "text/plain": [
       "<Figure size 1512x504 with 3 Axes>"
      ]
     },
     "metadata": {
      "needs_background": "light"
     },
     "output_type": "display_data"
    }
   ],
   "source": [
    "fig, (ax1, ax2, ax3) = plt.subplots(ncols=3, figsize=(21,7))\n",
    "sns.boxplot(x = 'LastWorkingDate', y = 'Age', data=ola_df, ax=ax1)\n",
    "sns.boxplot(x = 'LastWorkingDate', y = 'Total Business Value', data=ola_df, ax=ax2)\n",
    "sns.boxplot(x = 'LastWorkingDate', y = 'Income', data=ola_df, ax=ax3)\n",
    "plt.xticks(fontsize= 13)\n",
    "plt.title('Box plot of numerical columns', fontsize=16);"
   ]
  },
  {
   "cell_type": "markdown",
   "id": "22a86f85",
   "metadata": {},
   "source": [
    "### Scatter plot"
   ]
  },
  {
   "cell_type": "code",
   "execution_count": 91,
   "id": "ecfccebf",
   "metadata": {},
   "outputs": [
    {
     "data": {
      "text/plain": [
       "<AxesSubplot:xlabel='Dateofjoining', ylabel='Income'>"
      ]
     },
     "execution_count": 91,
     "metadata": {},
     "output_type": "execute_result"
    },
    {
     "data": {
      "image/png": "[encoded data removed]",
      "text/plain": [
       "<Figure size 432x288 with 1 Axes>"
      ]
     },
     "metadata": {
      "needs_background": "light"
     },
     "output_type": "display_data"
    }
   ],
   "source": [
    "sns.scatterplot(data=ola_df, x=ola_df['Dateofjoining'], y=ola_df['Income'], hue=ola_df['LastWorkingDate'])"
   ]
  },
  {
   "cell_type": "markdown",
   "id": "9d1702d6",
   "metadata": {},
   "source": [
    "## Basic Data Engineering"
   ]
  },
  {
   "cell_type": "code",
   "execution_count": 92,
   "id": "6729cb95",
   "metadata": {},
   "outputs": [
    {
     "name": "stdout",
     "output_type": "stream",
     "text": [
      "<class 'pandas.core.frame.DataFrame'>\n",
      "RangeIndex: 19104 entries, 0 to 19103\n",
      "Data columns (total 14 columns):\n",
      " #   Column                Non-Null Count  Dtype  \n",
      "---  ------                --------------  -----  \n",
      " 0   Unnamed: 0            19104 non-null  int64  \n",
      " 1   MMM-YY                19104 non-null  object \n",
      " 2   Driver_ID             19104 non-null  int64  \n",
      " 3   Age                   19043 non-null  float64\n",
      " 4   Gender                19052 non-null  float64\n",
      " 5   City                  19104 non-null  object \n",
      " 6   Education_Level       19104 non-null  int64  \n",
      " 7   Income                19104 non-null  int64  \n",
      " 8   Dateofjoining         19104 non-null  object \n",
      " 9   LastWorkingDate       19104 non-null  int32  \n",
      " 10  Joining Designation   19104 non-null  int64  \n",
      " 11  Grade                 19104 non-null  int64  \n",
      " 12  Total Business Value  19104 non-null  int64  \n",
      " 13  Quarterly Rating      19104 non-null  int64  \n",
      "dtypes: float64(2), int32(1), int64(8), object(3)\n",
      "memory usage: 2.0+ MB\n"
     ]
    }
   ],
   "source": [
    "ola_df.info()"
   ]
  },
  {
   "cell_type": "code",
   "execution_count": 93,
   "id": "ce6a09d1",
   "metadata": {},
   "outputs": [],
   "source": [
    "ola_df.drop('Unnamed: 0', inplace=True, axis=1)"
   ]
  },
  {
   "cell_type": "code",
   "execution_count": 94,
   "id": "3fe9f8e3",
   "metadata": {},
   "outputs": [],
   "source": [
    "ola_df[[\"rday\", \"rmonth\", \"ryear\"]] = ola_df[\"MMM-YY\"].str.split(\"/\", expand = True)\n",
    "ola_df.drop('MMM-YY', inplace=True, axis=1)"
   ]
  },
  {
   "cell_type": "code",
   "execution_count": 95,
   "id": "e38a0852",
   "metadata": {},
   "outputs": [],
   "source": [
    "ola_df[[\"joiningday\", \"joiningmonth\", \"joiningyear\"]] = ola_df[\"Dateofjoining\"].str.split(\"/\", expand = True)\n",
    "ola_df.drop('Dateofjoining', inplace=True, axis=1)"
   ]
  },
  {
   "cell_type": "markdown",
   "id": "8cb1302a",
   "metadata": {},
   "source": [
    "## Label encoding"
   ]
  },
  {
   "cell_type": "code",
   "execution_count": 96,
   "id": "28627ed9",
   "metadata": {},
   "outputs": [],
   "source": [
    "\n",
    "# Import label encoder\n",
    "from sklearn import preprocessing\n",
    "  \n",
    "# label_encoder object knows how to understand word labels.\n",
    "label_encoder = preprocessing.LabelEncoder()\n",
    "  \n",
    "# Encode labels in column 'species'.\n",
    "ola_df['City']= label_encoder.fit_transform(ola_df['City'])\n",
    "  \n",
    "# df['species'].unique()"
   ]
  },
  {
   "cell_type": "code",
   "execution_count": 97,
   "id": "954d112a",
   "metadata": {},
   "outputs": [
    {
     "data": {
      "text/html": [
       "<div>\n",
       "<style scoped>\n",
       "    .dataframe tbody tr th:only-of-type {\n",
       "        vertical-align: middle;\n",
       "    }\n",
       "\n",
       "    .dataframe tbody tr th {\n",
       "        vertical-align: top;\n",
       "    }\n",
       "\n",
       "    .dataframe thead th {\n",
       "        text-align: right;\n",
       "    }\n",
       "</style>\n",
       "<table border=\"1\" class=\"dataframe\">\n",
       "  <thead>\n",
       "    <tr style=\"text-align: right;\">\n",
       "      <th></th>\n",
       "      <th>Driver_ID</th>\n",
       "      <th>Age</th>\n",
       "      <th>Gender</th>\n",
       "      <th>City</th>\n",
       "      <th>Education_Level</th>\n",
       "      <th>Income</th>\n",
       "      <th>LastWorkingDate</th>\n",
       "      <th>Joining Designation</th>\n",
       "      <th>Grade</th>\n",
       "      <th>Total Business Value</th>\n",
       "      <th>Quarterly Rating</th>\n",
       "      <th>rday</th>\n",
       "      <th>rmonth</th>\n",
       "      <th>ryear</th>\n",
       "      <th>joiningday</th>\n",
       "      <th>joiningmonth</th>\n",
       "      <th>joiningyear</th>\n",
       "    </tr>\n",
       "  </thead>\n",
       "  <tbody>\n",
       "    <tr>\n",
       "      <th>0</th>\n",
       "      <td>1</td>\n",
       "      <td>28.0</td>\n",
       "      <td>0.0</td>\n",
       "      <td>15</td>\n",
       "      <td>2</td>\n",
       "      <td>57387</td>\n",
       "      <td>0</td>\n",
       "      <td>1</td>\n",
       "      <td>1</td>\n",
       "      <td>2381060</td>\n",
       "      <td>2</td>\n",
       "      <td>01</td>\n",
       "      <td>01</td>\n",
       "      <td>19</td>\n",
       "      <td>24</td>\n",
       "      <td>12</td>\n",
       "      <td>18</td>\n",
       "    </tr>\n",
       "    <tr>\n",
       "      <th>1</th>\n",
       "      <td>1</td>\n",
       "      <td>28.0</td>\n",
       "      <td>0.0</td>\n",
       "      <td>15</td>\n",
       "      <td>2</td>\n",
       "      <td>57387</td>\n",
       "      <td>0</td>\n",
       "      <td>1</td>\n",
       "      <td>1</td>\n",
       "      <td>-665480</td>\n",
       "      <td>2</td>\n",
       "      <td>02</td>\n",
       "      <td>01</td>\n",
       "      <td>19</td>\n",
       "      <td>24</td>\n",
       "      <td>12</td>\n",
       "      <td>18</td>\n",
       "    </tr>\n",
       "    <tr>\n",
       "      <th>2</th>\n",
       "      <td>1</td>\n",
       "      <td>28.0</td>\n",
       "      <td>0.0</td>\n",
       "      <td>15</td>\n",
       "      <td>2</td>\n",
       "      <td>57387</td>\n",
       "      <td>1</td>\n",
       "      <td>1</td>\n",
       "      <td>1</td>\n",
       "      <td>0</td>\n",
       "      <td>2</td>\n",
       "      <td>03</td>\n",
       "      <td>01</td>\n",
       "      <td>19</td>\n",
       "      <td>24</td>\n",
       "      <td>12</td>\n",
       "      <td>18</td>\n",
       "    </tr>\n",
       "    <tr>\n",
       "      <th>3</th>\n",
       "      <td>2</td>\n",
       "      <td>31.0</td>\n",
       "      <td>0.0</td>\n",
       "      <td>26</td>\n",
       "      <td>2</td>\n",
       "      <td>67016</td>\n",
       "      <td>0</td>\n",
       "      <td>2</td>\n",
       "      <td>2</td>\n",
       "      <td>0</td>\n",
       "      <td>1</td>\n",
       "      <td>11</td>\n",
       "      <td>01</td>\n",
       "      <td>20</td>\n",
       "      <td>11</td>\n",
       "      <td>06</td>\n",
       "      <td>20</td>\n",
       "    </tr>\n",
       "    <tr>\n",
       "      <th>4</th>\n",
       "      <td>2</td>\n",
       "      <td>31.0</td>\n",
       "      <td>0.0</td>\n",
       "      <td>26</td>\n",
       "      <td>2</td>\n",
       "      <td>67016</td>\n",
       "      <td>0</td>\n",
       "      <td>2</td>\n",
       "      <td>2</td>\n",
       "      <td>0</td>\n",
       "      <td>1</td>\n",
       "      <td>12</td>\n",
       "      <td>01</td>\n",
       "      <td>20</td>\n",
       "      <td>11</td>\n",
       "      <td>06</td>\n",
       "      <td>20</td>\n",
       "    </tr>\n",
       "    <tr>\n",
       "      <th>...</th>\n",
       "      <td>...</td>\n",
       "      <td>...</td>\n",
       "      <td>...</td>\n",
       "      <td>...</td>\n",
       "      <td>...</td>\n",
       "      <td>...</td>\n",
       "      <td>...</td>\n",
       "      <td>...</td>\n",
       "      <td>...</td>\n",
       "      <td>...</td>\n",
       "      <td>...</td>\n",
       "      <td>...</td>\n",
       "      <td>...</td>\n",
       "      <td>...</td>\n",
       "      <td>...</td>\n",
       "      <td>...</td>\n",
       "      <td>...</td>\n",
       "    </tr>\n",
       "    <tr>\n",
       "      <th>19099</th>\n",
       "      <td>2788</td>\n",
       "      <td>30.0</td>\n",
       "      <td>0.0</td>\n",
       "      <td>19</td>\n",
       "      <td>2</td>\n",
       "      <td>70254</td>\n",
       "      <td>0</td>\n",
       "      <td>2</td>\n",
       "      <td>2</td>\n",
       "      <td>740280</td>\n",
       "      <td>3</td>\n",
       "      <td>08</td>\n",
       "      <td>01</td>\n",
       "      <td>20</td>\n",
       "      <td>06</td>\n",
       "      <td>08</td>\n",
       "      <td>20</td>\n",
       "    </tr>\n",
       "    <tr>\n",
       "      <th>19100</th>\n",
       "      <td>2788</td>\n",
       "      <td>30.0</td>\n",
       "      <td>0.0</td>\n",
       "      <td>19</td>\n",
       "      <td>2</td>\n",
       "      <td>70254</td>\n",
       "      <td>0</td>\n",
       "      <td>2</td>\n",
       "      <td>2</td>\n",
       "      <td>448370</td>\n",
       "      <td>3</td>\n",
       "      <td>09</td>\n",
       "      <td>01</td>\n",
       "      <td>20</td>\n",
       "      <td>06</td>\n",
       "      <td>08</td>\n",
       "      <td>20</td>\n",
       "    </tr>\n",
       "    <tr>\n",
       "      <th>19101</th>\n",
       "      <td>2788</td>\n",
       "      <td>30.0</td>\n",
       "      <td>0.0</td>\n",
       "      <td>19</td>\n",
       "      <td>2</td>\n",
       "      <td>70254</td>\n",
       "      <td>0</td>\n",
       "      <td>2</td>\n",
       "      <td>2</td>\n",
       "      <td>0</td>\n",
       "      <td>2</td>\n",
       "      <td>10</td>\n",
       "      <td>01</td>\n",
       "      <td>20</td>\n",
       "      <td>06</td>\n",
       "      <td>08</td>\n",
       "      <td>20</td>\n",
       "    </tr>\n",
       "    <tr>\n",
       "      <th>19102</th>\n",
       "      <td>2788</td>\n",
       "      <td>30.0</td>\n",
       "      <td>0.0</td>\n",
       "      <td>19</td>\n",
       "      <td>2</td>\n",
       "      <td>70254</td>\n",
       "      <td>0</td>\n",
       "      <td>2</td>\n",
       "      <td>2</td>\n",
       "      <td>200420</td>\n",
       "      <td>2</td>\n",
       "      <td>11</td>\n",
       "      <td>01</td>\n",
       "      <td>20</td>\n",
       "      <td>06</td>\n",
       "      <td>08</td>\n",
       "      <td>20</td>\n",
       "    </tr>\n",
       "    <tr>\n",
       "      <th>19103</th>\n",
       "      <td>2788</td>\n",
       "      <td>30.0</td>\n",
       "      <td>0.0</td>\n",
       "      <td>19</td>\n",
       "      <td>2</td>\n",
       "      <td>70254</td>\n",
       "      <td>0</td>\n",
       "      <td>2</td>\n",
       "      <td>2</td>\n",
       "      <td>411480</td>\n",
       "      <td>2</td>\n",
       "      <td>12</td>\n",
       "      <td>01</td>\n",
       "      <td>20</td>\n",
       "      <td>06</td>\n",
       "      <td>08</td>\n",
       "      <td>20</td>\n",
       "    </tr>\n",
       "  </tbody>\n",
       "</table>\n",
       "<p>19104 rows × 17 columns</p>\n",
       "</div>"
      ],
      "text/plain": [
       "       Driver_ID   Age  Gender  City  Education_Level  Income  \\\n",
       "0              1  28.0     0.0    15                2   57387   \n",
       "1              1  28.0     0.0    15                2   57387   \n",
       "2              1  28.0     0.0    15                2   57387   \n",
       "3              2  31.0     0.0    26                2   67016   \n",
       "4              2  31.0     0.0    26                2   67016   \n",
       "...          ...   ...     ...   ...              ...     ...   \n",
       "19099       2788  30.0     0.0    19                2   70254   \n",
       "19100       2788  30.0     0.0    19                2   70254   \n",
       "19101       2788  30.0     0.0    19                2   70254   \n",
       "19102       2788  30.0     0.0    19                2   70254   \n",
       "19103       2788  30.0     0.0    19                2   70254   \n",
       "\n",
       "       LastWorkingDate  Joining Designation  Grade  Total Business Value  \\\n",
       "0                    0                    1      1               2381060   \n",
       "1                    0                    1      1               -665480   \n",
       "2                    1                    1      1                     0   \n",
       "3                    0                    2      2                     0   \n",
       "4                    0                    2      2                     0   \n",
       "...                ...                  ...    ...                   ...   \n",
       "19099                0                    2      2                740280   \n",
       "19100                0                    2      2                448370   \n",
       "19101                0                    2      2                     0   \n",
       "19102                0                    2      2                200420   \n",
       "19103                0                    2      2                411480   \n",
       "\n",
       "       Quarterly Rating rday rmonth ryear joiningday joiningmonth joiningyear  \n",
       "0                     2   01     01    19         24           12          18  \n",
       "1                     2   02     01    19         24           12          18  \n",
       "2                     2   03     01    19         24           12          18  \n",
       "3                     1   11     01    20         11           06          20  \n",
       "4                     1   12     01    20         11           06          20  \n",
       "...                 ...  ...    ...   ...        ...          ...         ...  \n",
       "19099                 3   08     01    20         06           08          20  \n",
       "19100                 3   09     01    20         06           08          20  \n",
       "19101                 2   10     01    20         06           08          20  \n",
       "19102                 2   11     01    20         06           08          20  \n",
       "19103                 2   12     01    20         06           08          20  \n",
       "\n",
       "[19104 rows x 17 columns]"
      ]
     },
     "execution_count": 97,
     "metadata": {},
     "output_type": "execute_result"
    }
   ],
   "source": [
    "ola_df"
   ]
  },
  {
   "cell_type": "code",
   "execution_count": 101,
   "id": "11c015b5",
   "metadata": {},
   "outputs": [
    {
     "data": {
      "text/plain": [
       "Index(['Driver_ID', 'Age', 'Gender', 'City', 'Education_Level', 'Income',\n",
       "       'LastWorkingDate', 'Joining Designation', 'Grade',\n",
       "       'Total Business Value', 'Quarterly Rating', 'rday', 'rmonth', 'ryear',\n",
       "       'joiningday', 'joiningmonth', 'joiningyear'],\n",
       "      dtype='object')"
      ]
     },
     "execution_count": 101,
     "metadata": {},
     "output_type": "execute_result"
    }
   ],
   "source": [
    "ola_df.columns"
   ]
  },
  {
   "cell_type": "markdown",
   "id": "af65ce93",
   "metadata": {},
   "source": [
    "## Missing Value & KNN Imputation"
   ]
  },
  {
   "cell_type": "code",
   "execution_count": 98,
   "id": "035e5f73",
   "metadata": {},
   "outputs": [
    {
     "data": {
      "text/plain": [
       "Driver_ID                0\n",
       "Age                     61\n",
       "Gender                  52\n",
       "City                     0\n",
       "Education_Level          0\n",
       "Income                   0\n",
       "LastWorkingDate          0\n",
       "Joining Designation      0\n",
       "Grade                    0\n",
       "Total Business Value     0\n",
       "Quarterly Rating         0\n",
       "rday                     0\n",
       "rmonth                   0\n",
       "ryear                    0\n",
       "joiningday               0\n",
       "joiningmonth             0\n",
       "joiningyear              0\n",
       "dtype: int64"
      ]
     },
     "execution_count": 98,
     "metadata": {},
     "output_type": "execute_result"
    }
   ],
   "source": [
    "ola_df.isna().sum()"
   ]
  },
  {
   "cell_type": "code",
   "execution_count": 104,
   "id": "a9d89af4",
   "metadata": {},
   "outputs": [],
   "source": [
    "# knn imputation transform for the horse colic dataset\n",
    "from numpy import isnan\n",
    "from sklearn.impute import KNNImputer\n",
    "# imputer = KNNImputer(n_neighbors=5, weights='uniform', metric='nan_euclidean')\n",
    "\n",
    "\n",
    "# define imputer\n",
    "imputer = KNNImputer()\n",
    "# fit on the dataset\n",
    "imputer.fit(ola_df)\n",
    "# transform the dataset\n",
    "Xtrans = imputer.transform(ola_df)\n",
    "\n",
    "ola_df = pd.DataFrame(Xtrans, columns = ola_df.columns)\n"
   ]
  },
  {
   "cell_type": "markdown",
   "id": "4b911057",
   "metadata": {},
   "source": [
    "## Test Train split"
   ]
  },
  {
   "cell_type": "code",
   "execution_count": 105,
   "id": "c409205a",
   "metadata": {},
   "outputs": [
    {
     "data": {
      "text/html": [
       "<div>\n",
       "<style scoped>\n",
       "    .dataframe tbody tr th:only-of-type {\n",
       "        vertical-align: middle;\n",
       "    }\n",
       "\n",
       "    .dataframe tbody tr th {\n",
       "        vertical-align: top;\n",
       "    }\n",
       "\n",
       "    .dataframe thead th {\n",
       "        text-align: right;\n",
       "    }\n",
       "</style>\n",
       "<table border=\"1\" class=\"dataframe\">\n",
       "  <thead>\n",
       "    <tr style=\"text-align: right;\">\n",
       "      <th></th>\n",
       "      <th>Driver_ID</th>\n",
       "      <th>Age</th>\n",
       "      <th>Gender</th>\n",
       "      <th>City</th>\n",
       "      <th>Education_Level</th>\n",
       "      <th>Income</th>\n",
       "      <th>Joining Designation</th>\n",
       "      <th>Grade</th>\n",
       "      <th>Total Business Value</th>\n",
       "      <th>Quarterly Rating</th>\n",
       "      <th>rday</th>\n",
       "      <th>rmonth</th>\n",
       "      <th>ryear</th>\n",
       "      <th>joiningday</th>\n",
       "      <th>joiningmonth</th>\n",
       "      <th>joiningyear</th>\n",
       "    </tr>\n",
       "  </thead>\n",
       "  <tbody>\n",
       "    <tr>\n",
       "      <th>0</th>\n",
       "      <td>1.0</td>\n",
       "      <td>28.0</td>\n",
       "      <td>0.0</td>\n",
       "      <td>15.0</td>\n",
       "      <td>2.0</td>\n",
       "      <td>57387.0</td>\n",
       "      <td>1.0</td>\n",
       "      <td>1.0</td>\n",
       "      <td>2381060.0</td>\n",
       "      <td>2.0</td>\n",
       "      <td>1.0</td>\n",
       "      <td>1.0</td>\n",
       "      <td>19.0</td>\n",
       "      <td>24.0</td>\n",
       "      <td>12.0</td>\n",
       "      <td>18.0</td>\n",
       "    </tr>\n",
       "    <tr>\n",
       "      <th>1</th>\n",
       "      <td>1.0</td>\n",
       "      <td>28.0</td>\n",
       "      <td>0.0</td>\n",
       "      <td>15.0</td>\n",
       "      <td>2.0</td>\n",
       "      <td>57387.0</td>\n",
       "      <td>1.0</td>\n",
       "      <td>1.0</td>\n",
       "      <td>-665480.0</td>\n",
       "      <td>2.0</td>\n",
       "      <td>2.0</td>\n",
       "      <td>1.0</td>\n",
       "      <td>19.0</td>\n",
       "      <td>24.0</td>\n",
       "      <td>12.0</td>\n",
       "      <td>18.0</td>\n",
       "    </tr>\n",
       "    <tr>\n",
       "      <th>2</th>\n",
       "      <td>1.0</td>\n",
       "      <td>28.0</td>\n",
       "      <td>0.0</td>\n",
       "      <td>15.0</td>\n",
       "      <td>2.0</td>\n",
       "      <td>57387.0</td>\n",
       "      <td>1.0</td>\n",
       "      <td>1.0</td>\n",
       "      <td>0.0</td>\n",
       "      <td>2.0</td>\n",
       "      <td>3.0</td>\n",
       "      <td>1.0</td>\n",
       "      <td>19.0</td>\n",
       "      <td>24.0</td>\n",
       "      <td>12.0</td>\n",
       "      <td>18.0</td>\n",
       "    </tr>\n",
       "    <tr>\n",
       "      <th>3</th>\n",
       "      <td>2.0</td>\n",
       "      <td>31.0</td>\n",
       "      <td>0.0</td>\n",
       "      <td>26.0</td>\n",
       "      <td>2.0</td>\n",
       "      <td>67016.0</td>\n",
       "      <td>2.0</td>\n",
       "      <td>2.0</td>\n",
       "      <td>0.0</td>\n",
       "      <td>1.0</td>\n",
       "      <td>11.0</td>\n",
       "      <td>1.0</td>\n",
       "      <td>20.0</td>\n",
       "      <td>11.0</td>\n",
       "      <td>6.0</td>\n",
       "      <td>20.0</td>\n",
       "    </tr>\n",
       "    <tr>\n",
       "      <th>4</th>\n",
       "      <td>2.0</td>\n",
       "      <td>31.0</td>\n",
       "      <td>0.0</td>\n",
       "      <td>26.0</td>\n",
       "      <td>2.0</td>\n",
       "      <td>67016.0</td>\n",
       "      <td>2.0</td>\n",
       "      <td>2.0</td>\n",
       "      <td>0.0</td>\n",
       "      <td>1.0</td>\n",
       "      <td>12.0</td>\n",
       "      <td>1.0</td>\n",
       "      <td>20.0</td>\n",
       "      <td>11.0</td>\n",
       "      <td>6.0</td>\n",
       "      <td>20.0</td>\n",
       "    </tr>\n",
       "    <tr>\n",
       "      <th>...</th>\n",
       "      <td>...</td>\n",
       "      <td>...</td>\n",
       "      <td>...</td>\n",
       "      <td>...</td>\n",
       "      <td>...</td>\n",
       "      <td>...</td>\n",
       "      <td>...</td>\n",
       "      <td>...</td>\n",
       "      <td>...</td>\n",
       "      <td>...</td>\n",
       "      <td>...</td>\n",
       "      <td>...</td>\n",
       "      <td>...</td>\n",
       "      <td>...</td>\n",
       "      <td>...</td>\n",
       "      <td>...</td>\n",
       "    </tr>\n",
       "    <tr>\n",
       "      <th>19099</th>\n",
       "      <td>2788.0</td>\n",
       "      <td>30.0</td>\n",
       "      <td>0.0</td>\n",
       "      <td>19.0</td>\n",
       "      <td>2.0</td>\n",
       "      <td>70254.0</td>\n",
       "      <td>2.0</td>\n",
       "      <td>2.0</td>\n",
       "      <td>740280.0</td>\n",
       "      <td>3.0</td>\n",
       "      <td>8.0</td>\n",
       "      <td>1.0</td>\n",
       "      <td>20.0</td>\n",
       "      <td>6.0</td>\n",
       "      <td>8.0</td>\n",
       "      <td>20.0</td>\n",
       "    </tr>\n",
       "    <tr>\n",
       "      <th>19100</th>\n",
       "      <td>2788.0</td>\n",
       "      <td>30.0</td>\n",
       "      <td>0.0</td>\n",
       "      <td>19.0</td>\n",
       "      <td>2.0</td>\n",
       "      <td>70254.0</td>\n",
       "      <td>2.0</td>\n",
       "      <td>2.0</td>\n",
       "      <td>448370.0</td>\n",
       "      <td>3.0</td>\n",
       "      <td>9.0</td>\n",
       "      <td>1.0</td>\n",
       "      <td>20.0</td>\n",
       "      <td>6.0</td>\n",
       "      <td>8.0</td>\n",
       "      <td>20.0</td>\n",
       "    </tr>\n",
       "    <tr>\n",
       "      <th>19101</th>\n",
       "      <td>2788.0</td>\n",
       "      <td>30.0</td>\n",
       "      <td>0.0</td>\n",
       "      <td>19.0</td>\n",
       "      <td>2.0</td>\n",
       "      <td>70254.0</td>\n",
       "      <td>2.0</td>\n",
       "      <td>2.0</td>\n",
       "      <td>0.0</td>\n",
       "      <td>2.0</td>\n",
       "      <td>10.0</td>\n",
       "      <td>1.0</td>\n",
       "      <td>20.0</td>\n",
       "      <td>6.0</td>\n",
       "      <td>8.0</td>\n",
       "      <td>20.0</td>\n",
       "    </tr>\n",
       "    <tr>\n",
       "      <th>19102</th>\n",
       "      <td>2788.0</td>\n",
       "      <td>30.0</td>\n",
       "      <td>0.0</td>\n",
       "      <td>19.0</td>\n",
       "      <td>2.0</td>\n",
       "      <td>70254.0</td>\n",
       "      <td>2.0</td>\n",
       "      <td>2.0</td>\n",
       "      <td>200420.0</td>\n",
       "      <td>2.0</td>\n",
       "      <td>11.0</td>\n",
       "      <td>1.0</td>\n",
       "      <td>20.0</td>\n",
       "      <td>6.0</td>\n",
       "      <td>8.0</td>\n",
       "      <td>20.0</td>\n",
       "    </tr>\n",
       "    <tr>\n",
       "      <th>19103</th>\n",
       "      <td>2788.0</td>\n",
       "      <td>30.0</td>\n",
       "      <td>0.0</td>\n",
       "      <td>19.0</td>\n",
       "      <td>2.0</td>\n",
       "      <td>70254.0</td>\n",
       "      <td>2.0</td>\n",
       "      <td>2.0</td>\n",
       "      <td>411480.0</td>\n",
       "      <td>2.0</td>\n",
       "      <td>12.0</td>\n",
       "      <td>1.0</td>\n",
       "      <td>20.0</td>\n",
       "      <td>6.0</td>\n",
       "      <td>8.0</td>\n",
       "      <td>20.0</td>\n",
       "    </tr>\n",
       "  </tbody>\n",
       "</table>\n",
       "<p>19104 rows × 16 columns</p>\n",
       "</div>"
      ],
      "text/plain": [
       "       Driver_ID   Age  Gender  City  Education_Level   Income  \\\n",
       "0            1.0  28.0     0.0  15.0              2.0  57387.0   \n",
       "1            1.0  28.0     0.0  15.0              2.0  57387.0   \n",
       "2            1.0  28.0     0.0  15.0              2.0  57387.0   \n",
       "3            2.0  31.0     0.0  26.0              2.0  67016.0   \n",
       "4            2.0  31.0     0.0  26.0              2.0  67016.0   \n",
       "...          ...   ...     ...   ...              ...      ...   \n",
       "19099     2788.0  30.0     0.0  19.0              2.0  70254.0   \n",
       "19100     2788.0  30.0     0.0  19.0              2.0  70254.0   \n",
       "19101     2788.0  30.0     0.0  19.0              2.0  70254.0   \n",
       "19102     2788.0  30.0     0.0  19.0              2.0  70254.0   \n",
       "19103     2788.0  30.0     0.0  19.0              2.0  70254.0   \n",
       "\n",
       "       Joining Designation  Grade  Total Business Value  Quarterly Rating  \\\n",
       "0                      1.0    1.0             2381060.0               2.0   \n",
       "1                      1.0    1.0             -665480.0               2.0   \n",
       "2                      1.0    1.0                   0.0               2.0   \n",
       "3                      2.0    2.0                   0.0               1.0   \n",
       "4                      2.0    2.0                   0.0               1.0   \n",
       "...                    ...    ...                   ...               ...   \n",
       "19099                  2.0    2.0              740280.0               3.0   \n",
       "19100                  2.0    2.0              448370.0               3.0   \n",
       "19101                  2.0    2.0                   0.0               2.0   \n",
       "19102                  2.0    2.0              200420.0               2.0   \n",
       "19103                  2.0    2.0              411480.0               2.0   \n",
       "\n",
       "       rday  rmonth  ryear  joiningday  joiningmonth  joiningyear  \n",
       "0       1.0     1.0   19.0        24.0          12.0         18.0  \n",
       "1       2.0     1.0   19.0        24.0          12.0         18.0  \n",
       "2       3.0     1.0   19.0        24.0          12.0         18.0  \n",
       "3      11.0     1.0   20.0        11.0           6.0         20.0  \n",
       "4      12.0     1.0   20.0        11.0           6.0         20.0  \n",
       "...     ...     ...    ...         ...           ...          ...  \n",
       "19099   8.0     1.0   20.0         6.0           8.0         20.0  \n",
       "19100   9.0     1.0   20.0         6.0           8.0         20.0  \n",
       "19101  10.0     1.0   20.0         6.0           8.0         20.0  \n",
       "19102  11.0     1.0   20.0         6.0           8.0         20.0  \n",
       "19103  12.0     1.0   20.0         6.0           8.0         20.0  \n",
       "\n",
       "[19104 rows x 16 columns]"
      ]
     },
     "execution_count": 105,
     "metadata": {},
     "output_type": "execute_result"
    }
   ],
   "source": [
    "X = ola_df.drop(columns=['LastWorkingDate'], axis=0)\n",
    "X"
   ]
  },
  {
   "cell_type": "code",
   "execution_count": 106,
   "id": "3da11ee3",
   "metadata": {},
   "outputs": [
    {
     "data": {
      "text/plain": [
       "0        0.0\n",
       "1        0.0\n",
       "2        1.0\n",
       "3        0.0\n",
       "4        0.0\n",
       "        ... \n",
       "19099    0.0\n",
       "19100    0.0\n",
       "19101    0.0\n",
       "19102    0.0\n",
       "19103    0.0\n",
       "Name: LastWorkingDate, Length: 19104, dtype: float64"
      ]
     },
     "execution_count": 106,
     "metadata": {},
     "output_type": "execute_result"
    }
   ],
   "source": [
    "y = ola_df['LastWorkingDate']\n",
    "y"
   ]
  },
  {
   "cell_type": "markdown",
   "id": "1e39c37d",
   "metadata": {},
   "source": [
    "## Standardization of  data"
   ]
  },
  {
   "cell_type": "code",
   "execution_count": 107,
   "id": "7914e1fa",
   "metadata": {},
   "outputs": [
    {
     "data": {
      "text/plain": [
       "array([[-1.74493508, -1.06567144, -0.84969899, ...,  0.85922578,\n",
       "         1.65297987,  0.1164452 ],\n",
       "       [-1.74493508, -1.06567144, -0.84969899, ...,  0.85922578,\n",
       "         1.65297987,  0.1164452 ],\n",
       "       [-1.74493508, -1.06567144, -0.84969899, ...,  0.85922578,\n",
       "         1.65297987,  0.1164452 ],\n",
       "       ...,\n",
       "       [ 1.69290216, -0.74580827, -0.84969899, ..., -1.15715077,\n",
       "         0.37576385,  1.15766642],\n",
       "       [ 1.69290216, -0.74580827, -0.84969899, ..., -1.15715077,\n",
       "         0.37576385,  1.15766642],\n",
       "       [ 1.69290216, -0.74580827, -0.84969899, ..., -1.15715077,\n",
       "         0.37576385,  1.15766642]])"
      ]
     },
     "execution_count": 107,
     "metadata": {},
     "output_type": "execute_result"
    }
   ],
   "source": [
    "from sklearn.preprocessing import StandardScaler\n",
    "scaler = StandardScaler()\n",
    "X = scaler.fit_transform(X)\n",
    "X"
   ]
  },
  {
   "cell_type": "code",
   "execution_count": 108,
   "id": "0931d898",
   "metadata": {},
   "outputs": [],
   "source": [
    "from sklearn.model_selection import train_test_split\n",
    "X_train, X_test, y_train, y_test = train_test_split(X, y, test_size=0.2, random_state=42)"
   ]
  },
  {
   "cell_type": "markdown",
   "id": "00a60494",
   "metadata": {},
   "source": [
    "## Class Imbalance Treatment"
   ]
  },
  {
   "cell_type": "code",
   "execution_count": 109,
   "id": "d1e147fd",
   "metadata": {},
   "outputs": [
    {
     "name": "stdout",
     "output_type": "stream",
     "text": [
      "Counter({0.0: 13998, 1.0: 1285})\n",
      "Counter({0.0: 13998, 1.0: 13998})\n"
     ]
    }
   ],
   "source": [
    "from imblearn.over_sampling import SMOTE\n",
    "from collections import Counter\n",
    "\n",
    "counter = Counter(y_train)\n",
    "print(counter)\n",
    "# transform the dataset\n",
    "oversample = SMOTE()\n",
    "X_train_smu, y_train_smu = oversample.fit_resample(X_train, y_train)\n",
    "# summarize the new class distribution\n",
    "counter = Counter(y_train_smu)\n",
    "print(counter)"
   ]
  },
  {
   "cell_type": "markdown",
   "id": "d650ca2d",
   "metadata": {},
   "source": [
    "## Bagging"
   ]
  },
  {
   "cell_type": "code",
   "execution_count": 111,
   "id": "405d0cf5",
   "metadata": {},
   "outputs": [],
   "source": [
    "from sklearn.ensemble import BaggingClassifier\n",
    "from sklearn.tree import DecisionTreeClassifier\n",
    "bag_model = BaggingClassifier(\n",
    "base_estimator=DecisionTreeClassifier(), \n",
    "n_estimators=100, \n",
    "max_samples=0.8, \n",
    "bootstrap=True,\n",
    "oob_score=True,\n",
    "random_state=0\n",
    ")"
   ]
  },
  {
   "cell_type": "code",
   "execution_count": 112,
   "id": "addb2bf9",
   "metadata": {},
   "outputs": [
    {
     "data": {
      "text/html": [
       "<style>#sk-container-id-1 {color: black;background-color: white;}#sk-container-id-1 pre{padding: 0;}#sk-container-id-1 div.sk-toggleable {background-color: white;}#sk-container-id-1 label.sk-toggleable__label {cursor: pointer;display: block;width: 100%;margin-bottom: 0;padding: 0.3em;box-sizing: border-box;text-align: center;}#sk-container-id-1 label.sk-toggleable__label-arrow:before {content: \"▸\";float: left;margin-right: 0.25em;color: #696969;}#sk-container-id-1 label.sk-toggleable__label-arrow:hover:before {color: black;}#sk-container-id-1 div.sk-estimator:hover label.sk-toggleable__label-arrow:before {color: black;}#sk-container-id-1 div.sk-toggleable__content {max-height: 0;max-width: 0;overflow: hidden;text-align: left;background-color: #f0f8ff;}#sk-container-id-1 div.sk-toggleable__content pre {margin: 0.2em;color: black;border-radius: 0.25em;background-color: #f0f8ff;}#sk-container-id-1 input.sk-toggleable__control:checked~div.sk-toggleable__content {max-height: 200px;max-width: 100%;overflow: auto;}#sk-container-id-1 input.sk-toggleable__control:checked~label.sk-toggleable__label-arrow:before {content: \"▾\";}#sk-container-id-1 div.sk-estimator input.sk-toggleable__control:checked~label.sk-toggleable__label {background-color: #d4ebff;}#sk-container-id-1 div.sk-label input.sk-toggleable__control:checked~label.sk-toggleable__label {background-color: #d4ebff;}#sk-container-id-1 input.sk-hidden--visually {border: 0;clip: rect(1px 1px 1px 1px);clip: rect(1px, 1px, 1px, 1px);height: 1px;margin: -1px;overflow: hidden;padding: 0;position: absolute;width: 1px;}#sk-container-id-1 div.sk-estimator {font-family: monospace;background-color: #f0f8ff;border: 1px dotted black;border-radius: 0.25em;box-sizing: border-box;margin-bottom: 0.5em;}#sk-container-id-1 div.sk-estimator:hover {background-color: #d4ebff;}#sk-container-id-1 div.sk-parallel-item::after {content: \"\";width: 100%;border-bottom: 1px solid gray;flex-grow: 1;}#sk-container-id-1 div.sk-label:hover label.sk-toggleable__label {background-color: #d4ebff;}#sk-container-id-1 div.sk-serial::before {content: \"\";position: absolute;border-left: 1px solid gray;box-sizing: border-box;top: 0;bottom: 0;left: 50%;z-index: 0;}#sk-container-id-1 div.sk-serial {display: flex;flex-direction: column;align-items: center;background-color: white;padding-right: 0.2em;padding-left: 0.2em;position: relative;}#sk-container-id-1 div.sk-item {position: relative;z-index: 1;}#sk-container-id-1 div.sk-parallel {display: flex;align-items: stretch;justify-content: center;background-color: white;position: relative;}#sk-container-id-1 div.sk-item::before, #sk-container-id-1 div.sk-parallel-item::before {content: \"\";position: absolute;border-left: 1px solid gray;box-sizing: border-box;top: 0;bottom: 0;left: 50%;z-index: -1;}#sk-container-id-1 div.sk-parallel-item {display: flex;flex-direction: column;z-index: 1;position: relative;background-color: white;}#sk-container-id-1 div.sk-parallel-item:first-child::after {align-self: flex-end;width: 50%;}#sk-container-id-1 div.sk-parallel-item:last-child::after {align-self: flex-start;width: 50%;}#sk-container-id-1 div.sk-parallel-item:only-child::after {width: 0;}#sk-container-id-1 div.sk-dashed-wrapped {border: 1px dashed gray;margin: 0 0.4em 0.5em 0.4em;box-sizing: border-box;padding-bottom: 0.4em;background-color: white;}#sk-container-id-1 div.sk-label label {font-family: monospace;font-weight: bold;display: inline-block;line-height: 1.2em;}#sk-container-id-1 div.sk-label-container {text-align: center;}#sk-container-id-1 div.sk-container {/* jupyter's `normalize.less` sets `[hidden] { display: none; }` but bootstrap.min.css set `[hidden] { display: none !important; }` so we also need the `!important` here to be able to override the default hidden behavior on the sphinx rendered scikit-learn.org. See: https://github.com/scikit-learn/scikit-learn/issues/21755 */display: inline-block !important;position: relative;}#sk-container-id-1 div.sk-text-repr-fallback {display: none;}</style><div id=\"sk-container-id-1\" class=\"sk-top-container\"><div class=\"sk-text-repr-fallback\"><pre>BaggingClassifier(base_estimator=DecisionTreeClassifier(), max_samples=0.8,\n",
       "                  n_estimators=100, oob_score=True, random_state=0)</pre><b>In a Jupyter environment, please rerun this cell to show the HTML representation or trust the notebook. <br />On GitHub, the HTML representation is unable to render, please try loading this page with nbviewer.org.</b></div><div class=\"sk-container\" hidden><div class=\"sk-item sk-dashed-wrapped\"><div class=\"sk-label-container\"><div class=\"sk-label sk-toggleable\"><input class=\"sk-toggleable__control sk-hidden--visually\" id=\"sk-estimator-id-1\" type=\"checkbox\" ><label for=\"sk-estimator-id-1\" class=\"sk-toggleable__label sk-toggleable__label-arrow\">BaggingClassifier</label><div class=\"sk-toggleable__content\"><pre>BaggingClassifier(base_estimator=DecisionTreeClassifier(), max_samples=0.8,\n",
       "                  n_estimators=100, oob_score=True, random_state=0)</pre></div></div></div><div class=\"sk-parallel\"><div class=\"sk-parallel-item\"><div class=\"sk-item\"><div class=\"sk-label-container\"><div class=\"sk-label sk-toggleable\"><input class=\"sk-toggleable__control sk-hidden--visually\" id=\"sk-estimator-id-2\" type=\"checkbox\" ><label for=\"sk-estimator-id-2\" class=\"sk-toggleable__label sk-toggleable__label-arrow\">base_estimator: DecisionTreeClassifier</label><div class=\"sk-toggleable__content\"><pre>DecisionTreeClassifier()</pre></div></div></div><div class=\"sk-serial\"><div class=\"sk-item\"><div class=\"sk-estimator sk-toggleable\"><input class=\"sk-toggleable__control sk-hidden--visually\" id=\"sk-estimator-id-3\" type=\"checkbox\" ><label for=\"sk-estimator-id-3\" class=\"sk-toggleable__label sk-toggleable__label-arrow\">DecisionTreeClassifier</label><div class=\"sk-toggleable__content\"><pre>DecisionTreeClassifier()</pre></div></div></div></div></div></div></div></div></div></div>"
      ],
      "text/plain": [
       "BaggingClassifier(base_estimator=DecisionTreeClassifier(), max_samples=0.8,\n",
       "                  n_estimators=100, oob_score=True, random_state=0)"
      ]
     },
     "execution_count": 112,
     "metadata": {},
     "output_type": "execute_result"
    }
   ],
   "source": [
    "bag_model.fit(X_train, y_train)"
   ]
  },
  {
   "cell_type": "markdown",
   "id": "5888aaec",
   "metadata": {},
   "source": [
    "#### Accuracy score"
   ]
  },
  {
   "cell_type": "code",
   "execution_count": 131,
   "id": "7aa1decc",
   "metadata": {},
   "outputs": [
    {
     "data": {
      "text/plain": [
       "0.9056467970948112"
      ]
     },
     "execution_count": 131,
     "metadata": {},
     "output_type": "execute_result"
    }
   ],
   "source": [
    "bag_model.oob_score_"
   ]
  },
  {
   "cell_type": "code",
   "execution_count": 132,
   "id": "2a67ac61",
   "metadata": {},
   "outputs": [
    {
     "data": {
      "text/plain": [
       "0.9057838262235017"
      ]
     },
     "execution_count": 132,
     "metadata": {},
     "output_type": "execute_result"
    }
   ],
   "source": [
    "bag_model.score(X_test, y_test)"
   ]
  },
  {
   "cell_type": "code",
   "execution_count": 133,
   "id": "b743f169",
   "metadata": {},
   "outputs": [],
   "source": [
    "y_pred = bag_model.predict(X_test)"
   ]
  },
  {
   "cell_type": "markdown",
   "id": "f48fb7b1",
   "metadata": {},
   "source": [
    "#### Classification Report"
   ]
  },
  {
   "cell_type": "code",
   "execution_count": 136,
   "id": "cc2fb70c",
   "metadata": {},
   "outputs": [
    {
     "name": "stdout",
     "output_type": "stream",
     "text": [
      "              precision    recall  f1-score   support\n",
      "\n",
      "         0.0       0.92      0.98      0.95      3490\n",
      "         1.0       0.38      0.14      0.20       331\n",
      "\n",
      "    accuracy                           0.91      3821\n",
      "   macro avg       0.65      0.56      0.58      3821\n",
      "weighted avg       0.88      0.91      0.89      3821\n",
      "\n"
     ]
    }
   ],
   "source": [
    "from sklearn.metrics import classification_report\n",
    "from sklearn.metrics import f1_score, accuracy_score, confusion_matrix, roc_auc_score, precision_recall_curve, f1_score\n",
    "print(classification_report(y_test, y_pred))"
   ]
  },
  {
   "cell_type": "markdown",
   "id": "3b57560f",
   "metadata": {},
   "source": [
    "#### Confusion Matrix"
   ]
  },
  {
   "cell_type": "code",
   "execution_count": 137,
   "id": "2d43af90",
   "metadata": {},
   "outputs": [
    {
     "data": {
      "text/plain": [
       "array([[3415,   75],\n",
       "       [ 285,   46]], dtype=int64)"
      ]
     },
     "execution_count": 137,
     "metadata": {},
     "output_type": "execute_result"
    }
   ],
   "source": [
    "#Ploting the confusion matrix\n",
    "confusion_matrix(y_test, y_pred)"
   ]
  },
  {
   "cell_type": "markdown",
   "id": "47e5b94d",
   "metadata": {},
   "source": [
    "#### ROC Curve"
   ]
  },
  {
   "cell_type": "code",
   "execution_count": 138,
   "id": "9e2df8ed",
   "metadata": {},
   "outputs": [],
   "source": [
    "from sklearn.metrics import roc_curve\n",
    "from sklearn.metrics import roc_auc_score\n",
    "from matplotlib import pyplot\n",
    "from sklearn.metrics import auc"
   ]
  },
  {
   "cell_type": "code",
   "execution_count": 140,
   "id": "6199085f",
   "metadata": {},
   "outputs": [
    {
     "data": {
      "image/png": "[encoded data removed]",
      "text/plain": [
       "<Figure size 432x288 with 1 Axes>"
      ]
     },
     "metadata": {
      "needs_background": "light"
     },
     "output_type": "display_data"
    }
   ],
   "source": [
    "roc_auc = roc_auc_score(y_test, y_pred)\n",
    "fpr, tpr, thres = roc_curve(y_test, bag_model.predict_proba(X_test)[:, 1])\n",
    "plt.figure()\n",
    "plt.plot(fpr, tpr, label='Bagging Model (area = %0.2f)' % roc_auc)\n",
    "plt.plot([0, 1], [0, 1], 'r--')\n",
    "plt.xlim([0.0, 1.0])\n",
    "plt.ylim([0.0, 1.0])\n",
    "plt.xlabel('FPR')\n",
    "plt.ylabel('TPR')\n",
    "plt.title('ROC')\n",
    "plt.legend(loc='lower right')\n",
    "plt.show()"
   ]
  },
  {
   "cell_type": "markdown",
   "id": "8da9d17f",
   "metadata": {},
   "source": [
    "## Random Forest Classifier"
   ]
  },
  {
   "cell_type": "code",
   "execution_count": 123,
   "id": "5490c5ad",
   "metadata": {},
   "outputs": [
    {
     "data": {
      "text/plain": [
       "0.9015243103545719"
      ]
     },
     "execution_count": 123,
     "metadata": {},
     "output_type": "execute_result"
    }
   ],
   "source": [
    "from sklearn.ensemble import RandomForestClassifier\n",
    "from sklearn.model_selection import cross_val_score\n",
    "\n",
    "scores = cross_val_score(RandomForestClassifier(n_estimators=10), X_train, y_train, cv=5)\n",
    "scores.mean()\n"
   ]
  },
  {
   "cell_type": "markdown",
   "id": "89b66b64",
   "metadata": {},
   "source": [
    "## XGBoost Classifier"
   ]
  },
  {
   "cell_type": "code",
   "execution_count": 141,
   "id": "b328d53d",
   "metadata": {},
   "outputs": [],
   "source": [
    "from xgboost import XGBClassifier\n",
    "from sklearn.metrics import accuracy_score"
   ]
  },
  {
   "cell_type": "code",
   "execution_count": 142,
   "id": "18496d95",
   "metadata": {},
   "outputs": [
    {
     "data": {
      "text/html": [
       "<style>#sk-container-id-3 {color: black;background-color: white;}#sk-container-id-3 pre{padding: 0;}#sk-container-id-3 div.sk-toggleable {background-color: white;}#sk-container-id-3 label.sk-toggleable__label {cursor: pointer;display: block;width: 100%;margin-bottom: 0;padding: 0.3em;box-sizing: border-box;text-align: center;}#sk-container-id-3 label.sk-toggleable__label-arrow:before {content: \"▸\";float: left;margin-right: 0.25em;color: #696969;}#sk-container-id-3 label.sk-toggleable__label-arrow:hover:before {color: black;}#sk-container-id-3 div.sk-estimator:hover label.sk-toggleable__label-arrow:before {color: black;}#sk-container-id-3 div.sk-toggleable__content {max-height: 0;max-width: 0;overflow: hidden;text-align: left;background-color: #f0f8ff;}#sk-container-id-3 div.sk-toggleable__content pre {margin: 0.2em;color: black;border-radius: 0.25em;background-color: #f0f8ff;}#sk-container-id-3 input.sk-toggleable__control:checked~div.sk-toggleable__content {max-height: 200px;max-width: 100%;overflow: auto;}#sk-container-id-3 input.sk-toggleable__control:checked~label.sk-toggleable__label-arrow:before {content: \"▾\";}#sk-container-id-3 div.sk-estimator input.sk-toggleable__control:checked~label.sk-toggleable__label {background-color: #d4ebff;}#sk-container-id-3 div.sk-label input.sk-toggleable__control:checked~label.sk-toggleable__label {background-color: #d4ebff;}#sk-container-id-3 input.sk-hidden--visually {border: 0;clip: rect(1px 1px 1px 1px);clip: rect(1px, 1px, 1px, 1px);height: 1px;margin: -1px;overflow: hidden;padding: 0;position: absolute;width: 1px;}#sk-container-id-3 div.sk-estimator {font-family: monospace;background-color: #f0f8ff;border: 1px dotted black;border-radius: 0.25em;box-sizing: border-box;margin-bottom: 0.5em;}#sk-container-id-3 div.sk-estimator:hover {background-color: #d4ebff;}#sk-container-id-3 div.sk-parallel-item::after {content: \"\";width: 100%;border-bottom: 1px solid gray;flex-grow: 1;}#sk-container-id-3 div.sk-label:hover label.sk-toggleable__label {background-color: #d4ebff;}#sk-container-id-3 div.sk-serial::before {content: \"\";position: absolute;border-left: 1px solid gray;box-sizing: border-box;top: 0;bottom: 0;left: 50%;z-index: 0;}#sk-container-id-3 div.sk-serial {display: flex;flex-direction: column;align-items: center;background-color: white;padding-right: 0.2em;padding-left: 0.2em;position: relative;}#sk-container-id-3 div.sk-item {position: relative;z-index: 1;}#sk-container-id-3 div.sk-parallel {display: flex;align-items: stretch;justify-content: center;background-color: white;position: relative;}#sk-container-id-3 div.sk-item::before, #sk-container-id-3 div.sk-parallel-item::before {content: \"\";position: absolute;border-left: 1px solid gray;box-sizing: border-box;top: 0;bottom: 0;left: 50%;z-index: -1;}#sk-container-id-3 div.sk-parallel-item {display: flex;flex-direction: column;z-index: 1;position: relative;background-color: white;}#sk-container-id-3 div.sk-parallel-item:first-child::after {align-self: flex-end;width: 50%;}#sk-container-id-3 div.sk-parallel-item:last-child::after {align-self: flex-start;width: 50%;}#sk-container-id-3 div.sk-parallel-item:only-child::after {width: 0;}#sk-container-id-3 div.sk-dashed-wrapped {border: 1px dashed gray;margin: 0 0.4em 0.5em 0.4em;box-sizing: border-box;padding-bottom: 0.4em;background-color: white;}#sk-container-id-3 div.sk-label label {font-family: monospace;font-weight: bold;display: inline-block;line-height: 1.2em;}#sk-container-id-3 div.sk-label-container {text-align: center;}#sk-container-id-3 div.sk-container {/* jupyter's `normalize.less` sets `[hidden] { display: none; }` but bootstrap.min.css set `[hidden] { display: none !important; }` so we also need the `!important` here to be able to override the default hidden behavior on the sphinx rendered scikit-learn.org. See: https://github.com/scikit-learn/scikit-learn/issues/21755 */display: inline-block !important;position: relative;}#sk-container-id-3 div.sk-text-repr-fallback {display: none;}</style><div id=\"sk-container-id-3\" class=\"sk-top-container\"><div class=\"sk-text-repr-fallback\"><pre>XGBClassifier(base_score=0.5, booster=&#x27;gbtree&#x27;, callbacks=None,\n",
       "              colsample_bylevel=1, colsample_bynode=1, colsample_bytree=1,\n",
       "              early_stopping_rounds=None, enable_categorical=False,\n",
       "              eval_metric=None, feature_types=None, gamma=0, gpu_id=-1,\n",
       "              grow_policy=&#x27;depthwise&#x27;, importance_type=None,\n",
       "              interaction_constraints=&#x27;&#x27;, learning_rate=0.300000012,\n",
       "              max_bin=256, max_cat_threshold=64, max_cat_to_onehot=4,\n",
       "              max_delta_step=0, max_depth=6, max_leaves=0, min_child_weight=1,\n",
       "              missing=nan, monotone_constraints=&#x27;()&#x27;, n_estimators=100,\n",
       "              n_jobs=0, num_parallel_tree=1, predictor=&#x27;auto&#x27;, random_state=0, ...)</pre><b>In a Jupyter environment, please rerun this cell to show the HTML representation or trust the notebook. <br />On GitHub, the HTML representation is unable to render, please try loading this page with nbviewer.org.</b></div><div class=\"sk-container\" hidden><div class=\"sk-item\"><div class=\"sk-estimator sk-toggleable\"><input class=\"sk-toggleable__control sk-hidden--visually\" id=\"sk-estimator-id-5\" type=\"checkbox\" checked><label for=\"sk-estimator-id-5\" class=\"sk-toggleable__label sk-toggleable__label-arrow\">XGBClassifier</label><div class=\"sk-toggleable__content\"><pre>XGBClassifier(base_score=0.5, booster=&#x27;gbtree&#x27;, callbacks=None,\n",
       "              colsample_bylevel=1, colsample_bynode=1, colsample_bytree=1,\n",
       "              early_stopping_rounds=None, enable_categorical=False,\n",
       "              eval_metric=None, feature_types=None, gamma=0, gpu_id=-1,\n",
       "              grow_policy=&#x27;depthwise&#x27;, importance_type=None,\n",
       "              interaction_constraints=&#x27;&#x27;, learning_rate=0.300000012,\n",
       "              max_bin=256, max_cat_threshold=64, max_cat_to_onehot=4,\n",
       "              max_delta_step=0, max_depth=6, max_leaves=0, min_child_weight=1,\n",
       "              missing=nan, monotone_constraints=&#x27;()&#x27;, n_estimators=100,\n",
       "              n_jobs=0, num_parallel_tree=1, predictor=&#x27;auto&#x27;, random_state=0, ...)</pre></div></div></div></div></div>"
      ],
      "text/plain": [
       "XGBClassifier(base_score=0.5, booster='gbtree', callbacks=None,\n",
       "              colsample_bylevel=1, colsample_bynode=1, colsample_bytree=1,\n",
       "              early_stopping_rounds=None, enable_categorical=False,\n",
       "              eval_metric=None, feature_types=None, gamma=0, gpu_id=-1,\n",
       "              grow_policy='depthwise', importance_type=None,\n",
       "              interaction_constraints='', learning_rate=0.300000012,\n",
       "              max_bin=256, max_cat_threshold=64, max_cat_to_onehot=4,\n",
       "              max_delta_step=0, max_depth=6, max_leaves=0, min_child_weight=1,\n",
       "              missing=nan, monotone_constraints='()', n_estimators=100,\n",
       "              n_jobs=0, num_parallel_tree=1, predictor='auto', random_state=0, ...)"
      ]
     },
     "execution_count": 142,
     "metadata": {},
     "output_type": "execute_result"
    }
   ],
   "source": [
    "# fit model no training data\n",
    "model = XGBClassifier()\n",
    "model.fit(X_train, y_train)"
   ]
  },
  {
   "cell_type": "code",
   "execution_count": 143,
   "id": "7419d40f",
   "metadata": {},
   "outputs": [
    {
     "data": {
      "text/plain": [
       "array([0, 0, 0, ..., 1, 0, 0])"
      ]
     },
     "execution_count": 143,
     "metadata": {},
     "output_type": "execute_result"
    }
   ],
   "source": [
    "# make predictions for test data\n",
    "y_pred = model.predict(X_test)\n",
    "y_pred"
   ]
  },
  {
   "cell_type": "code",
   "execution_count": 144,
   "id": "746a7e14",
   "metadata": {},
   "outputs": [
    {
     "name": "stdout",
     "output_type": "stream",
     "text": [
      "Accuracy: 90.60%\n"
     ]
    }
   ],
   "source": [
    "# evaluate predictions\n",
    "accuracy = accuracy_score(y_test, y_pred)\n",
    "print(\"Accuracy: %.2f%%\" % (accuracy * 100.0))"
   ]
  },
  {
   "cell_type": "markdown",
   "id": "1c79d53d",
   "metadata": {},
   "source": [
    "#### Classification Report"
   ]
  },
  {
   "cell_type": "code",
   "execution_count": 145,
   "id": "bdeff4f8",
   "metadata": {},
   "outputs": [
    {
     "name": "stdout",
     "output_type": "stream",
     "text": [
      "              precision    recall  f1-score   support\n",
      "\n",
      "         0.0       0.93      0.97      0.95      3490\n",
      "         1.0       0.41      0.20      0.27       331\n",
      "\n",
      "    accuracy                           0.91      3821\n",
      "   macro avg       0.67      0.58      0.61      3821\n",
      "weighted avg       0.88      0.91      0.89      3821\n",
      "\n"
     ]
    }
   ],
   "source": [
    "print(classification_report(y_test, y_pred))"
   ]
  },
  {
   "cell_type": "markdown",
   "id": "faf91780",
   "metadata": {},
   "source": [
    "#### Confusion Matrix"
   ]
  },
  {
   "cell_type": "code",
   "execution_count": 146,
   "id": "268ece86",
   "metadata": {},
   "outputs": [
    {
     "data": {
      "text/plain": [
       "array([[3397,   93],\n",
       "       [ 266,   65]], dtype=int64)"
      ]
     },
     "execution_count": 146,
     "metadata": {},
     "output_type": "execute_result"
    }
   ],
   "source": [
    "confusion_matrix(y_test, y_pred)"
   ]
  },
  {
   "cell_type": "markdown",
   "id": "ed4b0867",
   "metadata": {},
   "source": [
    "#### ROC Curve"
   ]
  },
  {
   "cell_type": "code",
   "execution_count": 147,
   "id": "1d105aa6",
   "metadata": {},
   "outputs": [],
   "source": [
    "from sklearn.metrics import roc_curve\n",
    "from sklearn.metrics import roc_auc_score\n",
    "from matplotlib import pyplot\n",
    "from sklearn.metrics import auc"
   ]
  },
  {
   "cell_type": "code",
   "execution_count": 148,
   "id": "5668397f",
   "metadata": {},
   "outputs": [
    {
     "data": {
      "image/png": "[encoded data removed]",
      "text/plain": [
       "<Figure size 432x288 with 1 Axes>"
      ]
     },
     "metadata": {
      "needs_background": "light"
     },
     "output_type": "display_data"
    }
   ],
   "source": [
    "roc_auc = roc_auc_score(y_test, y_pred)\n",
    "fpr, tpr, thres = roc_curve(y_test, model.predict_proba(X_test)[:, 1])\n",
    "plt.figure()\n",
    "plt.plot(fpr, tpr, label='Bagging Model (area = %0.2f)' % roc_auc)\n",
    "plt.plot([0, 1], [0, 1], 'r--')\n",
    "plt.xlim([0.0, 1.0])\n",
    "plt.ylim([0.0, 1.0])\n",
    "plt.xlabel('FPR')\n",
    "plt.ylabel('TPR')\n",
    "plt.title('ROC')\n",
    "plt.legend(loc='lower right')\n",
    "plt.show()"
   ]
  },
  {
   "cell_type": "markdown",
   "id": "94ce042f",
   "metadata": {},
   "source": [
    "## Recommendations "
   ]
  },
  {
   "cell_type": "markdown",
   "id": "0b88f533",
   "metadata": {},
   "source": [
    "Both Bagging and Boosting model provides almost same result, we can use any one of the model"
   ]
  }
 ],
 "metadata": {
  "kernelspec": {
   "display_name": "Python 3 (ipykernel)",
   "language": "python",
   "name": "python3"
  },
  "language_info": {
   "codemirror_mode": {
    "name": "ipython",
    "version": 3
   },
   "file_extension": ".py",
   "mimetype": "text/x-python",
   "name": "python",
   "nbconvert_exporter": "python",
   "pygments_lexer": "ipython3",
   "version": "3.10.4"
  }
 },
 "nbformat": 4,
 "nbformat_minor": 5
}
